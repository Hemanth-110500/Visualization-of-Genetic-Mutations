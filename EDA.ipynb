{
 "cells": [
  {
   "cell_type": "code",
   "execution_count": 9,
   "id": "7d69c806",
   "metadata": {},
   "outputs": [],
   "source": [
    "import copy\n",
    "import pandas as pd\n",
    "pd.set_option(\"display.max_columns\", None)\n",
    "from sklearn.preprocessing import LabelEncoder\n",
    "import matplotlib.pyplot as plt\n",
    "import plotly.express as px\n",
    "import seaborn as sns\n",
    "from sklearn.model_selection import train_test_split\n",
    "from sklearn.linear_model import LogisticRegression\n",
    "from sklearn.metrics import accuracy_score\n",
    "from sklearn.tree import DecisionTreeClassifier\n",
    "from xgboost import XGBClassifier\n",
    "from scipy.stats import iqr"
   ]
  },
  {
   "cell_type": "code",
   "execution_count": 40,
   "id": "8bfeb96e",
   "metadata": {},
   "outputs": [],
   "source": [
    "df = pd.read_csv('training_variants.csv')"
   ]
  },
  {
   "cell_type": "code",
   "execution_count": 3,
   "id": "6605c577",
   "metadata": {},
   "outputs": [
    {
     "data": {
      "text/html": [
       "<div>\n",
       "<style scoped>\n",
       "    .dataframe tbody tr th:only-of-type {\n",
       "        vertical-align: middle;\n",
       "    }\n",
       "\n",
       "    .dataframe tbody tr th {\n",
       "        vertical-align: top;\n",
       "    }\n",
       "\n",
       "    .dataframe thead th {\n",
       "        text-align: right;\n",
       "    }\n",
       "</style>\n",
       "<table border=\"1\" class=\"dataframe\">\n",
       "  <thead>\n",
       "    <tr style=\"text-align: right;\">\n",
       "      <th></th>\n",
       "      <th>ID</th>\n",
       "      <th>Gene</th>\n",
       "      <th>Variation</th>\n",
       "      <th>Class</th>\n",
       "    </tr>\n",
       "  </thead>\n",
       "  <tbody>\n",
       "    <tr>\n",
       "      <th>0</th>\n",
       "      <td>0</td>\n",
       "      <td>FAM58A</td>\n",
       "      <td>Truncating Mutations</td>\n",
       "      <td>1</td>\n",
       "    </tr>\n",
       "    <tr>\n",
       "      <th>1</th>\n",
       "      <td>1</td>\n",
       "      <td>CBL</td>\n",
       "      <td>W802*</td>\n",
       "      <td>2</td>\n",
       "    </tr>\n",
       "    <tr>\n",
       "      <th>2</th>\n",
       "      <td>2</td>\n",
       "      <td>CBL</td>\n",
       "      <td>Q249E</td>\n",
       "      <td>2</td>\n",
       "    </tr>\n",
       "    <tr>\n",
       "      <th>3</th>\n",
       "      <td>3</td>\n",
       "      <td>CBL</td>\n",
       "      <td>N454D</td>\n",
       "      <td>3</td>\n",
       "    </tr>\n",
       "    <tr>\n",
       "      <th>4</th>\n",
       "      <td>4</td>\n",
       "      <td>CBL</td>\n",
       "      <td>L399V</td>\n",
       "      <td>4</td>\n",
       "    </tr>\n",
       "    <tr>\n",
       "      <th>...</th>\n",
       "      <td>...</td>\n",
       "      <td>...</td>\n",
       "      <td>...</td>\n",
       "      <td>...</td>\n",
       "    </tr>\n",
       "    <tr>\n",
       "      <th>3316</th>\n",
       "      <td>3316</td>\n",
       "      <td>RUNX1</td>\n",
       "      <td>D171N</td>\n",
       "      <td>4</td>\n",
       "    </tr>\n",
       "    <tr>\n",
       "      <th>3317</th>\n",
       "      <td>3317</td>\n",
       "      <td>RUNX1</td>\n",
       "      <td>A122*</td>\n",
       "      <td>1</td>\n",
       "    </tr>\n",
       "    <tr>\n",
       "      <th>3318</th>\n",
       "      <td>3318</td>\n",
       "      <td>RUNX1</td>\n",
       "      <td>Fusions</td>\n",
       "      <td>1</td>\n",
       "    </tr>\n",
       "    <tr>\n",
       "      <th>3319</th>\n",
       "      <td>3319</td>\n",
       "      <td>RUNX1</td>\n",
       "      <td>R80C</td>\n",
       "      <td>4</td>\n",
       "    </tr>\n",
       "    <tr>\n",
       "      <th>3320</th>\n",
       "      <td>3320</td>\n",
       "      <td>RUNX1</td>\n",
       "      <td>K83E</td>\n",
       "      <td>4</td>\n",
       "    </tr>\n",
       "  </tbody>\n",
       "</table>\n",
       "<p>3321 rows × 4 columns</p>\n",
       "</div>"
      ],
      "text/plain": [
       "        ID    Gene             Variation  Class\n",
       "0        0  FAM58A  Truncating Mutations      1\n",
       "1        1     CBL                 W802*      2\n",
       "2        2     CBL                 Q249E      2\n",
       "3        3     CBL                 N454D      3\n",
       "4        4     CBL                 L399V      4\n",
       "...    ...     ...                   ...    ...\n",
       "3316  3316   RUNX1                 D171N      4\n",
       "3317  3317   RUNX1                 A122*      1\n",
       "3318  3318   RUNX1               Fusions      1\n",
       "3319  3319   RUNX1                  R80C      4\n",
       "3320  3320   RUNX1                  K83E      4\n",
       "\n",
       "[3321 rows x 4 columns]"
      ]
     },
     "execution_count": 3,
     "metadata": {},
     "output_type": "execute_result"
    }
   ],
   "source": [
    "df"
   ]
  },
  {
   "cell_type": "code",
   "execution_count": 41,
   "id": "760d9e16",
   "metadata": {},
   "outputs": [
    {
     "data": {
      "text/plain": [
       "7    953\n",
       "4    686\n",
       "1    568\n",
       "2    452\n",
       "6    275\n",
       "5    242\n",
       "3     89\n",
       "9     37\n",
       "8     19\n",
       "Name: Class, dtype: int64"
      ]
     },
     "execution_count": 41,
     "metadata": {},
     "output_type": "execute_result"
    }
   ],
   "source": [
    "df['Class'].value_counts()"
   ]
  },
  {
   "cell_type": "code",
   "execution_count": 57,
   "id": "2b3c3e48",
   "metadata": {},
   "outputs": [
    {
     "data": {
      "text/plain": [
       "BRCA1     264\n",
       "TP53      163\n",
       "EGFR      141\n",
       "PTEN      126\n",
       "BRCA2     125\n",
       "KIT        99\n",
       "BRAF       93\n",
       "ALK        69\n",
       "ERBB2      69\n",
       "PDGFRA     60\n",
       "PIK3CA     56\n",
       "CDKN2A     52\n",
       "FGFR2      50\n",
       "FLT3       49\n",
       "TSC2       47\n",
       "Name: Gene, dtype: int64"
      ]
     },
     "execution_count": 57,
     "metadata": {},
     "output_type": "execute_result"
    }
   ],
   "source": [
    "df['Gene'].value_counts()[:15]"
   ]
  },
  {
   "cell_type": "code",
   "execution_count": 20,
   "id": "8c12c402",
   "metadata": {},
   "outputs": [
    {
     "data": {
      "text/plain": [
       "Truncating Mutations         93\n",
       "Deletion                     74\n",
       "Amplification                71\n",
       "Fusions                      34\n",
       "Overexpression                6\n",
       "G12V                          4\n",
       "Q61L                          3\n",
       "E17K                          3\n",
       "T58I                          3\n",
       "Q61R                          3\n",
       "Q61H                          3\n",
       "G35R                          2\n",
       "S308A                         2\n",
       "P130S                         2\n",
       "TMPRSS2-ETV1 Fusion           2\n",
       "G67R                          2\n",
       "G13V                          2\n",
       "R173C                         2\n",
       "EWSR1-ETV1 Fusion             2\n",
       "ETV6-NTRK3 Fusion             2\n",
       "I31M                          2\n",
       "G12D                          2\n",
       "R841K                         2\n",
       "E330K                         2\n",
       "G13D                          2\n",
       "A146T                         2\n",
       "E542K                         2\n",
       "C618R                         2\n",
       "A146V                         2\n",
       "M1R                           2\n",
       "Q209L                         2\n",
       "T73I                          2\n",
       "S222D                         2\n",
       "Y42C                          2\n",
       "V321M                         2\n",
       "F384L                         2\n",
       "R170W                         2\n",
       "G12C                          2\n",
       "P34R                          2\n",
       "Y64A                          2\n",
       "G12S                          2\n",
       "Q22K                          2\n",
       "G12A                          2\n",
       "G13C                          2\n",
       "F28L                          2\n",
       "T286A                         2\n",
       "Q61K                          2\n",
       "K117N                         2\n",
       "T167A                         2\n",
       "Promoter Hypermethylation     2\n",
       "Name: Variation, dtype: int64"
      ]
     },
     "execution_count": 20,
     "metadata": {},
     "output_type": "execute_result"
    }
   ],
   "source": [
    "df['Variation'].value_counts()[:50]"
   ]
  },
  {
   "cell_type": "code",
   "execution_count": 22,
   "id": "9b30f52c",
   "metadata": {},
   "outputs": [
    {
     "data": {
      "text/plain": [
       "7    953\n",
       "4    686\n",
       "1    568\n",
       "2    452\n",
       "6    275\n",
       "5    242\n",
       "3     89\n",
       "9     37\n",
       "8     19\n",
       "Name: Class, dtype: int64"
      ]
     },
     "execution_count": 22,
     "metadata": {},
     "output_type": "execute_result"
    }
   ],
   "source": [
    "df['Class'].value_counts()"
   ]
  },
  {
   "cell_type": "code",
   "execution_count": 44,
   "id": "98284ea6",
   "metadata": {},
   "outputs": [
    {
     "data": {
      "text/plain": [
       "<AxesSubplot:>"
      ]
     },
     "execution_count": 44,
     "metadata": {},
     "output_type": "execute_result"
    },
    {
     "data": {
      "image/png": "[encoded data removed]",
      "text/plain": [
       "<Figure size 432x288 with 1 Axes>"
      ]
     },
     "metadata": {
      "needs_background": "light"
     },
     "output_type": "display_data"
    }
   ],
   "source": [
    "df1 = df[df['Class'] == 1]\n",
    "df1['Gene'].value_counts()[:20].plot(kind = 'bar')"
   ]
  },
  {
   "cell_type": "code",
   "execution_count": 45,
   "id": "551979de",
   "metadata": {},
   "outputs": [],
   "source": [
    "df1.to_csv('Class1.csv', index = False)"
   ]
  },
  {
   "cell_type": "code",
   "execution_count": 75,
   "id": "7dc3816a",
   "metadata": {},
   "outputs": [],
   "source": [
    "df11 = df1['Gene'].value_counts()"
   ]
  },
  {
   "cell_type": "code",
   "execution_count": 82,
   "id": "4a70b699",
   "metadata": {},
   "outputs": [
    {
     "data": {
      "text/plain": [
       "TP53       83\n",
       "BRCA1      60\n",
       "TSC2       23\n",
       "BRCA2      18\n",
       "ERCC2      17\n",
       "VHL        15\n",
       "PTPRT      13\n",
       "SMAD4      13\n",
       "SMAD3      11\n",
       "SMAD2      11\n",
       "MLH1        9\n",
       "PPP2R1A     9\n",
       "PIK3R1      9\n",
       "NF2         8\n",
       "FGFR2       7\n",
       "Name: Gene, dtype: int64"
      ]
     },
     "execution_count": 82,
     "metadata": {},
     "output_type": "execute_result"
    }
   ],
   "source": [
    "df11 = df11.head(15)\n",
    "df11"
   ]
  },
  {
   "cell_type": "code",
   "execution_count": null,
   "id": "3a5055f3",
   "metadata": {},
   "outputs": [],
   "source": [
    "df11.insert(0,\"Gene\")"
   ]
  },
  {
   "cell_type": "code",
   "execution_count": 31,
   "id": "b18b6721",
   "metadata": {},
   "outputs": [
    {
     "data": {
      "text/plain": [
       "<AxesSubplot:>"
      ]
     },
     "execution_count": 31,
     "metadata": {},
     "output_type": "execute_result"
    },
    {
     "data": {
      "image/png": "[encoded data removed]",
      "text/plain": [
       "<Figure size 432x288 with 1 Axes>"
      ]
     },
     "metadata": {
      "needs_background": "light"
     },
     "output_type": "display_data"
    }
   ],
   "source": [
    "df2 = df[df['Class'] == 2]\n",
    "df2['Gene'].value_counts()[:20].plot(kind = 'bar')\n"
   ]
  },
  {
   "cell_type": "code",
   "execution_count": 46,
   "id": "ab5cef58",
   "metadata": {},
   "outputs": [],
   "source": [
    "df2.to_csv('Class2.csv', index = False)"
   ]
  },
  {
   "cell_type": "code",
   "execution_count": 87,
   "id": "133567be",
   "metadata": {},
   "outputs": [
    {
     "data": {
      "text/plain": [
       "EGFR      45\n",
       "KIT       44\n",
       "BRAF      31\n",
       "ABL1      24\n",
       "ROS1      18\n",
       "HRAS      15\n",
       "ERBB2     14\n",
       "PIK3CA    14\n",
       "PDGFRB    14\n",
       "NOTCH1    13\n",
       "RET       11\n",
       "SMO       10\n",
       "FGFR3      8\n",
       "MAP2K1     8\n",
       "EPAS1      8\n",
       "Name: Gene, dtype: int64"
      ]
     },
     "execution_count": 87,
     "metadata": {},
     "output_type": "execute_result"
    }
   ],
   "source": [
    "df21 = df2['Gene'].value_counts().head(15)\n",
    "df21"
   ]
  },
  {
   "cell_type": "code",
   "execution_count": 32,
   "id": "08430810",
   "metadata": {},
   "outputs": [
    {
     "data": {
      "text/plain": [
       "<AxesSubplot:>"
      ]
     },
     "execution_count": 32,
     "metadata": {},
     "output_type": "execute_result"
    },
    {
     "data": {
      "image/png": "[encoded data removed]",
      "text/plain": [
       "<Figure size 432x288 with 1 Axes>"
      ]
     },
     "metadata": {
      "needs_background": "light"
     },
     "output_type": "display_data"
    }
   ],
   "source": [
    "df3 = df[df['Class'] == 3]\n",
    "df3['Gene'].value_counts()[:20].plot(kind = 'bar')"
   ]
  },
  {
   "cell_type": "code",
   "execution_count": 47,
   "id": "4e446291",
   "metadata": {},
   "outputs": [],
   "source": [
    "df3.to_csv('Class3.csv', index = False)"
   ]
  },
  {
   "cell_type": "code",
   "execution_count": 88,
   "id": "ec745fcd",
   "metadata": {},
   "outputs": [
    {
     "data": {
      "text/plain": [
       "BRCA1      15\n",
       "MTOR       11\n",
       "ALK        10\n",
       "PDGFRA      9\n",
       "FLT3        7\n",
       "TSC1        6\n",
       "PTEN        5\n",
       "ERBB4       3\n",
       "AKT1        3\n",
       "TP53        2\n",
       "ESR1        2\n",
       "TMPRSS2     2\n",
       "KRAS        1\n",
       "RAD51C      1\n",
       "KIT         1\n",
       "Name: Gene, dtype: int64"
      ]
     },
     "execution_count": 88,
     "metadata": {},
     "output_type": "execute_result"
    }
   ],
   "source": [
    "df31 = df3['Gene'].value_counts().head(15)\n",
    "df31"
   ]
  },
  {
   "cell_type": "code",
   "execution_count": 33,
   "id": "f51d38ec",
   "metadata": {},
   "outputs": [
    {
     "data": {
      "text/plain": [
       "<AxesSubplot:>"
      ]
     },
     "execution_count": 33,
     "metadata": {},
     "output_type": "execute_result"
    },
    {
     "data": {
      "image/png": "[encoded data removed]",
      "text/plain": [
       "<Figure size 432x288 with 1 Axes>"
      ]
     },
     "metadata": {
      "needs_background": "light"
     },
     "output_type": "display_data"
    }
   ],
   "source": [
    "df4 = df[df['Class'] == 4]\n",
    "df4['Gene'].value_counts()[:20].plot(kind = 'bar')"
   ]
  },
  {
   "cell_type": "code",
   "execution_count": 48,
   "id": "c7ee3460",
   "metadata": {},
   "outputs": [],
   "source": [
    "df4.to_csv('Class4.csv', index = False)"
   ]
  },
  {
   "cell_type": "code",
   "execution_count": 89,
   "id": "c9041ec3",
   "metadata": {},
   "outputs": [
    {
     "data": {
      "text/plain": [
       "PTEN      115\n",
       "TP53       67\n",
       "CDKN2A     47\n",
       "BRCA1      46\n",
       "VHL        23\n",
       "TSC2       23\n",
       "CBL        16\n",
       "RUNX1      16\n",
       "PIK3R1     15\n",
       "SPOP       15\n",
       "SMAD4      14\n",
       "NF1        14\n",
       "MSH2       13\n",
       "KEAP1      11\n",
       "SMAD3      11\n",
       "Name: Gene, dtype: int64"
      ]
     },
     "execution_count": 89,
     "metadata": {},
     "output_type": "execute_result"
    }
   ],
   "source": [
    "df41 = df4['Gene'].value_counts().head(15)\n",
    "df41"
   ]
  },
  {
   "cell_type": "code",
   "execution_count": 34,
   "id": "273b48ef",
   "metadata": {},
   "outputs": [
    {
     "data": {
      "text/plain": [
       "<AxesSubplot:>"
      ]
     },
     "execution_count": 34,
     "metadata": {},
     "output_type": "execute_result"
    },
    {
     "data": {
      "image/png": "[encoded data removed]",
      "text/plain": [
       "<Figure size 432x288 with 1 Axes>"
      ]
     },
     "metadata": {
      "needs_background": "light"
     },
     "output_type": "display_data"
    }
   ],
   "source": [
    "df5 = df[df['Class'] == 5]\n",
    "df5['Gene'].value_counts()[:20].plot(kind = 'bar')"
   ]
  },
  {
   "cell_type": "code",
   "execution_count": 49,
   "id": "e3510899",
   "metadata": {},
   "outputs": [],
   "source": [
    "df5.to_csv('Class5.csv', index = False)"
   ]
  },
  {
   "cell_type": "code",
   "execution_count": 90,
   "id": "b7809a7c",
   "metadata": {},
   "outputs": [
    {
     "data": {
      "text/plain": [
       "BRCA1     90\n",
       "BRCA2     20\n",
       "FGFR3     10\n",
       "BRAF       8\n",
       "PIK3CA     8\n",
       "IDH1       6\n",
       "ERBB2      6\n",
       "MLH1       6\n",
       "PMS2       5\n",
       "ALK        5\n",
       "FGFR2      5\n",
       "RET        5\n",
       "PDGFRA     4\n",
       "MAP2K1     4\n",
       "AR         3\n",
       "Name: Gene, dtype: int64"
      ]
     },
     "execution_count": 90,
     "metadata": {},
     "output_type": "execute_result"
    }
   ],
   "source": [
    "df51 = df5['Gene'].value_counts().head(15)\n",
    "df51"
   ]
  },
  {
   "cell_type": "code",
   "execution_count": 35,
   "id": "2c12a03a",
   "metadata": {},
   "outputs": [
    {
     "data": {
      "text/plain": [
       "<AxesSubplot:>"
      ]
     },
     "execution_count": 35,
     "metadata": {},
     "output_type": "execute_result"
    },
    {
     "data": {
      "image/png": "[encoded data removed]",
      "text/plain": [
       "<Figure size 432x288 with 1 Axes>"
      ]
     },
     "metadata": {
      "needs_background": "light"
     },
     "output_type": "display_data"
    }
   ],
   "source": [
    "df6 = df[df['Class'] == 6]\n",
    "df6['Gene'].value_counts()[:20].plot(kind = 'bar')"
   ]
  },
  {
   "cell_type": "code",
   "execution_count": 50,
   "id": "33286c07",
   "metadata": {},
   "outputs": [],
   "source": [
    "df6.to_csv('Class6.csv', index = False)"
   ]
  },
  {
   "cell_type": "code",
   "execution_count": 91,
   "id": "96fa522a",
   "metadata": {},
   "outputs": [
    {
     "data": {
      "text/plain": [
       "BRCA2     84\n",
       "BRCA1     53\n",
       "JAK2      14\n",
       "ERBB2     12\n",
       "MLH1      11\n",
       "TET2       6\n",
       "TP53       5\n",
       "ERBB4      4\n",
       "AR         4\n",
       "KRAS       4\n",
       "PIM1       4\n",
       "MAP2K1     4\n",
       "FGFR2      4\n",
       "SMAD4      4\n",
       "SMAD2      4\n",
       "Name: Gene, dtype: int64"
      ]
     },
     "execution_count": 91,
     "metadata": {},
     "output_type": "execute_result"
    }
   ],
   "source": [
    "df61 = df6['Gene'].value_counts().head(15)\n",
    "df61"
   ]
  },
  {
   "cell_type": "code",
   "execution_count": 36,
   "id": "4d7bec71",
   "metadata": {},
   "outputs": [
    {
     "data": {
      "text/plain": [
       "<AxesSubplot:>"
      ]
     },
     "execution_count": 36,
     "metadata": {},
     "output_type": "execute_result"
    },
    {
     "data": {
      "image/png": "[encoded data removed]",
      "text/plain": [
       "<Figure size 432x288 with 1 Axes>"
      ]
     },
     "metadata": {
      "needs_background": "light"
     },
     "output_type": "display_data"
    }
   ],
   "source": [
    "df7 = df[df['Class'] == 7]\n",
    "df7['Gene'].value_counts()[:20].plot(kind = 'bar')"
   ]
  },
  {
   "cell_type": "code",
   "execution_count": 51,
   "id": "10f4f194",
   "metadata": {},
   "outputs": [],
   "source": [
    "df7.to_csv('Class7.csv', index = False)"
   ]
  },
  {
   "cell_type": "code",
   "execution_count": 92,
   "id": "cb5d7d05",
   "metadata": {},
   "outputs": [
    {
     "data": {
      "text/plain": [
       "EGFR      84\n",
       "KIT       52\n",
       "BRAF      48\n",
       "ALK       47\n",
       "PDGFRA    42\n",
       "FLT3      37\n",
       "KRAS      33\n",
       "PIK3CA    31\n",
       "ERBB2     30\n",
       "FGFR2     27\n",
       "MTOR      27\n",
       "MAP2K1    26\n",
       "MET       24\n",
       "CTNNB1    24\n",
       "NFE2L2    20\n",
       "Name: Gene, dtype: int64"
      ]
     },
     "execution_count": 92,
     "metadata": {},
     "output_type": "execute_result"
    }
   ],
   "source": [
    "df71 = df7['Gene'].value_counts().head(15)\n",
    "df71"
   ]
  },
  {
   "cell_type": "code",
   "execution_count": 42,
   "id": "5973fe6c",
   "metadata": {},
   "outputs": [
    {
     "data": {
      "text/plain": [
       "<AxesSubplot:>"
      ]
     },
     "execution_count": 42,
     "metadata": {},
     "output_type": "execute_result"
    },
    {
     "data": {
      "image/png": "[encoded data removed]",
      "text/plain": [
       "<Figure size 432x288 with 1 Axes>"
      ]
     },
     "metadata": {
      "needs_background": "light"
     },
     "output_type": "display_data"
    }
   ],
   "source": [
    "df8 = df[df['Class'] == 8]\n",
    "df8['Gene'].value_counts().plot(kind = 'bar')"
   ]
  },
  {
   "cell_type": "code",
   "execution_count": 52,
   "id": "543d87c3",
   "metadata": {},
   "outputs": [],
   "source": [
    "df8.to_csv('Class8.csv', index = False)"
   ]
  },
  {
   "cell_type": "code",
   "execution_count": 93,
   "id": "62121cbb",
   "metadata": {},
   "outputs": [
    {
     "data": {
      "text/plain": [
       "BCOR      4\n",
       "H3F3A     3\n",
       "AKT1      2\n",
       "IDH2      2\n",
       "SF3B1     1\n",
       "EGFR      1\n",
       "ERBB2     1\n",
       "IDH1      1\n",
       "RHOA      1\n",
       "PTPN11    1\n",
       "DNMT3B    1\n",
       "RAD51B    1\n",
       "Name: Gene, dtype: int64"
      ]
     },
     "execution_count": 93,
     "metadata": {},
     "output_type": "execute_result"
    }
   ],
   "source": [
    "df81 = df8['Gene'].value_counts().head(15)\n",
    "df81"
   ]
  },
  {
   "cell_type": "code",
   "execution_count": 43,
   "id": "10f340d1",
   "metadata": {},
   "outputs": [
    {
     "data": {
      "text/plain": [
       "<AxesSubplot:>"
      ]
     },
     "execution_count": 43,
     "metadata": {},
     "output_type": "execute_result"
    },
    {
     "data": {
      "image/png": "[encoded data removed]",
      "text/plain": [
       "<Figure size 432x288 with 1 Axes>"
      ]
     },
     "metadata": {
      "needs_background": "light"
     },
     "output_type": "display_data"
    }
   ],
   "source": [
    "df9 = df[df['Class'] == 9]\n",
    "df9['Gene'].value_counts()[:20].plot(kind = 'bar')"
   ]
  },
  {
   "cell_type": "code",
   "execution_count": 53,
   "id": "e89673cc",
   "metadata": {},
   "outputs": [],
   "source": [
    "df9.to_csv('Class9.csv', index = False)"
   ]
  },
  {
   "cell_type": "code",
   "execution_count": 55,
   "id": "e3311f73",
   "metadata": {},
   "outputs": [],
   "source": [
    "df9 = pd.read_csv('Class9.csv')"
   ]
  },
  {
   "cell_type": "code",
   "execution_count": 94,
   "id": "c9c90a25",
   "metadata": {},
   "outputs": [
    {
     "data": {
      "text/plain": [
       "SF3B1    15\n",
       "EZH2      6\n",
       "IDH1      4\n",
       "U2AF1     3\n",
       "IDH2      3\n",
       "AKT2      2\n",
       "TP53      1\n",
       "CTCF      1\n",
       "CIC       1\n",
       "MED12     1\n",
       "Name: Gene, dtype: int64"
      ]
     },
     "execution_count": 94,
     "metadata": {},
     "output_type": "execute_result"
    }
   ],
   "source": [
    "df91 = df9['Gene'].value_counts().head(15)\n",
    "df91"
   ]
  },
  {
   "cell_type": "code",
   "execution_count": 83,
   "id": "cba924d1",
   "metadata": {},
   "outputs": [],
   "source": [
    "df11 = pd.read_csv('Class1_1.csv')"
   ]
  },
  {
   "cell_type": "code",
   "execution_count": 84,
   "id": "31b97141",
   "metadata": {},
   "outputs": [
    {
     "data": {
      "text/html": [
       "<div>\n",
       "<style scoped>\n",
       "    .dataframe tbody tr th:only-of-type {\n",
       "        vertical-align: middle;\n",
       "    }\n",
       "\n",
       "    .dataframe tbody tr th {\n",
       "        vertical-align: top;\n",
       "    }\n",
       "\n",
       "    .dataframe thead th {\n",
       "        text-align: right;\n",
       "    }\n",
       "</style>\n",
       "<table border=\"1\" class=\"dataframe\">\n",
       "  <thead>\n",
       "    <tr style=\"text-align: right;\">\n",
       "      <th></th>\n",
       "      <th>Gene</th>\n",
       "      <th>Count</th>\n",
       "    </tr>\n",
       "  </thead>\n",
       "  <tbody>\n",
       "    <tr>\n",
       "      <th>0</th>\n",
       "      <td>TP53</td>\n",
       "      <td>83</td>\n",
       "    </tr>\n",
       "    <tr>\n",
       "      <th>1</th>\n",
       "      <td>BRCA1</td>\n",
       "      <td>60</td>\n",
       "    </tr>\n",
       "    <tr>\n",
       "      <th>2</th>\n",
       "      <td>TSC2</td>\n",
       "      <td>23</td>\n",
       "    </tr>\n",
       "    <tr>\n",
       "      <th>3</th>\n",
       "      <td>BRCA2</td>\n",
       "      <td>18</td>\n",
       "    </tr>\n",
       "    <tr>\n",
       "      <th>4</th>\n",
       "      <td>ERCC2</td>\n",
       "      <td>17</td>\n",
       "    </tr>\n",
       "    <tr>\n",
       "      <th>5</th>\n",
       "      <td>VHL</td>\n",
       "      <td>15</td>\n",
       "    </tr>\n",
       "    <tr>\n",
       "      <th>6</th>\n",
       "      <td>PTPRT</td>\n",
       "      <td>13</td>\n",
       "    </tr>\n",
       "    <tr>\n",
       "      <th>7</th>\n",
       "      <td>SMAD4</td>\n",
       "      <td>13</td>\n",
       "    </tr>\n",
       "    <tr>\n",
       "      <th>8</th>\n",
       "      <td>SMAD3</td>\n",
       "      <td>11</td>\n",
       "    </tr>\n",
       "    <tr>\n",
       "      <th>9</th>\n",
       "      <td>SMAD2</td>\n",
       "      <td>11</td>\n",
       "    </tr>\n",
       "    <tr>\n",
       "      <th>10</th>\n",
       "      <td>MLH1</td>\n",
       "      <td>9</td>\n",
       "    </tr>\n",
       "    <tr>\n",
       "      <th>11</th>\n",
       "      <td>PPP2R1A</td>\n",
       "      <td>9</td>\n",
       "    </tr>\n",
       "    <tr>\n",
       "      <th>12</th>\n",
       "      <td>PIK3R1</td>\n",
       "      <td>9</td>\n",
       "    </tr>\n",
       "    <tr>\n",
       "      <th>13</th>\n",
       "      <td>NF2</td>\n",
       "      <td>8</td>\n",
       "    </tr>\n",
       "    <tr>\n",
       "      <th>14</th>\n",
       "      <td>FGFR2</td>\n",
       "      <td>783</td>\n",
       "    </tr>\n",
       "  </tbody>\n",
       "</table>\n",
       "</div>"
      ],
      "text/plain": [
       "       Gene  Count\n",
       "0      TP53     83\n",
       "1     BRCA1     60\n",
       "2      TSC2     23\n",
       "3     BRCA2     18\n",
       "4     ERCC2     17\n",
       "5       VHL     15\n",
       "6     PTPRT     13\n",
       "7     SMAD4     13\n",
       "8     SMAD3     11\n",
       "9     SMAD2     11\n",
       "10     MLH1      9\n",
       "11  PPP2R1A      9\n",
       "12   PIK3R1      9\n",
       "13      NF2      8\n",
       "14    FGFR2    783"
      ]
     },
     "execution_count": 84,
     "metadata": {},
     "output_type": "execute_result"
    }
   ],
   "source": [
    "df11"
   ]
  },
  {
   "cell_type": "code",
   "execution_count": 104,
   "id": "56af5feb",
   "metadata": {},
   "outputs": [],
   "source": [
    "data_text.to_csv(\"training_text.csv\")"
   ]
  },
  {
   "cell_type": "code",
   "execution_count": 105,
   "id": "93a3f2fe",
   "metadata": {},
   "outputs": [
    {
     "data": {
      "text/html": [
       "<div>\n",
       "<style scoped>\n",
       "    .dataframe tbody tr th:only-of-type {\n",
       "        vertical-align: middle;\n",
       "    }\n",
       "\n",
       "    .dataframe tbody tr th {\n",
       "        vertical-align: top;\n",
       "    }\n",
       "\n",
       "    .dataframe thead th {\n",
       "        text-align: right;\n",
       "    }\n",
       "</style>\n",
       "<table border=\"1\" class=\"dataframe\">\n",
       "  <thead>\n",
       "    <tr style=\"text-align: right;\">\n",
       "      <th></th>\n",
       "      <th>ID</th>\n",
       "      <th>TEXT</th>\n",
       "    </tr>\n",
       "  </thead>\n",
       "  <tbody>\n",
       "    <tr>\n",
       "      <th>0</th>\n",
       "      <td>0</td>\n",
       "      <td>Cyclin-dependent kinases (CDKs) regulate a var...</td>\n",
       "    </tr>\n",
       "    <tr>\n",
       "      <th>1</th>\n",
       "      <td>1</td>\n",
       "      <td>Abstract Background  Non-small cell lung canc...</td>\n",
       "    </tr>\n",
       "    <tr>\n",
       "      <th>2</th>\n",
       "      <td>2</td>\n",
       "      <td>Abstract Background  Non-small cell lung canc...</td>\n",
       "    </tr>\n",
       "    <tr>\n",
       "      <th>3</th>\n",
       "      <td>3</td>\n",
       "      <td>Recent evidence has demonstrated that acquired...</td>\n",
       "    </tr>\n",
       "    <tr>\n",
       "      <th>4</th>\n",
       "      <td>4</td>\n",
       "      <td>Oncogenic mutations in the monomeric Casitas B...</td>\n",
       "    </tr>\n",
       "    <tr>\n",
       "      <th>...</th>\n",
       "      <td>...</td>\n",
       "      <td>...</td>\n",
       "    </tr>\n",
       "    <tr>\n",
       "      <th>3316</th>\n",
       "      <td>3316</td>\n",
       "      <td>Introduction  Myelodysplastic syndromes (MDS) ...</td>\n",
       "    </tr>\n",
       "    <tr>\n",
       "      <th>3317</th>\n",
       "      <td>3317</td>\n",
       "      <td>Introduction  Myelodysplastic syndromes (MDS) ...</td>\n",
       "    </tr>\n",
       "    <tr>\n",
       "      <th>3318</th>\n",
       "      <td>3318</td>\n",
       "      <td>The Runt-related transcription factor 1 gene (...</td>\n",
       "    </tr>\n",
       "    <tr>\n",
       "      <th>3319</th>\n",
       "      <td>3319</td>\n",
       "      <td>The RUNX1/AML1 gene is the most frequent targe...</td>\n",
       "    </tr>\n",
       "    <tr>\n",
       "      <th>3320</th>\n",
       "      <td>3320</td>\n",
       "      <td>The most frequent mutations associated with le...</td>\n",
       "    </tr>\n",
       "  </tbody>\n",
       "</table>\n",
       "<p>3321 rows × 2 columns</p>\n",
       "</div>"
      ],
      "text/plain": [
       "        ID                                               TEXT\n",
       "0        0  Cyclin-dependent kinases (CDKs) regulate a var...\n",
       "1        1   Abstract Background  Non-small cell lung canc...\n",
       "2        2   Abstract Background  Non-small cell lung canc...\n",
       "3        3  Recent evidence has demonstrated that acquired...\n",
       "4        4  Oncogenic mutations in the monomeric Casitas B...\n",
       "...    ...                                                ...\n",
       "3316  3316  Introduction  Myelodysplastic syndromes (MDS) ...\n",
       "3317  3317  Introduction  Myelodysplastic syndromes (MDS) ...\n",
       "3318  3318  The Runt-related transcription factor 1 gene (...\n",
       "3319  3319  The RUNX1/AML1 gene is the most frequent targe...\n",
       "3320  3320  The most frequent mutations associated with le...\n",
       "\n",
       "[3321 rows x 2 columns]"
      ]
     },
     "execution_count": 105,
     "metadata": {},
     "output_type": "execute_result"
    }
   ],
   "source": [
    "data_text"
   ]
  },
  {
   "cell_type": "code",
   "execution_count": 106,
   "id": "c0e3c082",
   "metadata": {},
   "outputs": [],
   "source": [
    "data_text.to_csv('training_text.csv', index = False)"
   ]
  },
  {
   "cell_type": "code",
   "execution_count": 107,
   "id": "a0848ec0",
   "metadata": {},
   "outputs": [],
   "source": [
    "tf = pd.read_csv('training_text.csv')"
   ]
  },
  {
   "cell_type": "code",
   "execution_count": 108,
   "id": "8f628b56",
   "metadata": {},
   "outputs": [
    {
     "data": {
      "text/html": [
       "<div>\n",
       "<style scoped>\n",
       "    .dataframe tbody tr th:only-of-type {\n",
       "        vertical-align: middle;\n",
       "    }\n",
       "\n",
       "    .dataframe tbody tr th {\n",
       "        vertical-align: top;\n",
       "    }\n",
       "\n",
       "    .dataframe thead th {\n",
       "        text-align: right;\n",
       "    }\n",
       "</style>\n",
       "<table border=\"1\" class=\"dataframe\">\n",
       "  <thead>\n",
       "    <tr style=\"text-align: right;\">\n",
       "      <th></th>\n",
       "      <th>ID</th>\n",
       "      <th>TEXT</th>\n",
       "    </tr>\n",
       "  </thead>\n",
       "  <tbody>\n",
       "    <tr>\n",
       "      <th>0</th>\n",
       "      <td>0</td>\n",
       "      <td>Cyclin-dependent kinases (CDKs) regulate a var...</td>\n",
       "    </tr>\n",
       "    <tr>\n",
       "      <th>1</th>\n",
       "      <td>1</td>\n",
       "      <td>Abstract Background  Non-small cell lung canc...</td>\n",
       "    </tr>\n",
       "    <tr>\n",
       "      <th>2</th>\n",
       "      <td>2</td>\n",
       "      <td>Abstract Background  Non-small cell lung canc...</td>\n",
       "    </tr>\n",
       "    <tr>\n",
       "      <th>3</th>\n",
       "      <td>3</td>\n",
       "      <td>Recent evidence has demonstrated that acquired...</td>\n",
       "    </tr>\n",
       "    <tr>\n",
       "      <th>4</th>\n",
       "      <td>4</td>\n",
       "      <td>Oncogenic mutations in the monomeric Casitas B...</td>\n",
       "    </tr>\n",
       "    <tr>\n",
       "      <th>...</th>\n",
       "      <td>...</td>\n",
       "      <td>...</td>\n",
       "    </tr>\n",
       "    <tr>\n",
       "      <th>3316</th>\n",
       "      <td>3316</td>\n",
       "      <td>Introduction  Myelodysplastic syndromes (MDS) ...</td>\n",
       "    </tr>\n",
       "    <tr>\n",
       "      <th>3317</th>\n",
       "      <td>3317</td>\n",
       "      <td>Introduction  Myelodysplastic syndromes (MDS) ...</td>\n",
       "    </tr>\n",
       "    <tr>\n",
       "      <th>3318</th>\n",
       "      <td>3318</td>\n",
       "      <td>The Runt-related transcription factor 1 gene (...</td>\n",
       "    </tr>\n",
       "    <tr>\n",
       "      <th>3319</th>\n",
       "      <td>3319</td>\n",
       "      <td>The RUNX1/AML1 gene is the most frequent targe...</td>\n",
       "    </tr>\n",
       "    <tr>\n",
       "      <th>3320</th>\n",
       "      <td>3320</td>\n",
       "      <td>The most frequent mutations associated with le...</td>\n",
       "    </tr>\n",
       "  </tbody>\n",
       "</table>\n",
       "<p>3321 rows × 2 columns</p>\n",
       "</div>"
      ],
      "text/plain": [
       "        ID                                               TEXT\n",
       "0        0  Cyclin-dependent kinases (CDKs) regulate a var...\n",
       "1        1   Abstract Background  Non-small cell lung canc...\n",
       "2        2   Abstract Background  Non-small cell lung canc...\n",
       "3        3  Recent evidence has demonstrated that acquired...\n",
       "4        4  Oncogenic mutations in the monomeric Casitas B...\n",
       "...    ...                                                ...\n",
       "3316  3316  Introduction  Myelodysplastic syndromes (MDS) ...\n",
       "3317  3317  Introduction  Myelodysplastic syndromes (MDS) ...\n",
       "3318  3318  The Runt-related transcription factor 1 gene (...\n",
       "3319  3319  The RUNX1/AML1 gene is the most frequent targe...\n",
       "3320  3320  The most frequent mutations associated with le...\n",
       "\n",
       "[3321 rows x 2 columns]"
      ]
     },
     "execution_count": 108,
     "metadata": {},
     "output_type": "execute_result"
    }
   ],
   "source": [
    "tf"
   ]
  },
  {
   "cell_type": "code",
   "execution_count": 109,
   "id": "2d864ad2",
   "metadata": {},
   "outputs": [],
   "source": [
    "df_final = df.merge(tf,on='ID')"
   ]
  },
  {
   "cell_type": "code",
   "execution_count": 110,
   "id": "c2436b9f",
   "metadata": {},
   "outputs": [
    {
     "data": {
      "text/html": [
       "<div>\n",
       "<style scoped>\n",
       "    .dataframe tbody tr th:only-of-type {\n",
       "        vertical-align: middle;\n",
       "    }\n",
       "\n",
       "    .dataframe tbody tr th {\n",
       "        vertical-align: top;\n",
       "    }\n",
       "\n",
       "    .dataframe thead th {\n",
       "        text-align: right;\n",
       "    }\n",
       "</style>\n",
       "<table border=\"1\" class=\"dataframe\">\n",
       "  <thead>\n",
       "    <tr style=\"text-align: right;\">\n",
       "      <th></th>\n",
       "      <th>ID</th>\n",
       "      <th>Gene</th>\n",
       "      <th>Variation</th>\n",
       "      <th>Class</th>\n",
       "      <th>TEXT</th>\n",
       "    </tr>\n",
       "  </thead>\n",
       "  <tbody>\n",
       "    <tr>\n",
       "      <th>0</th>\n",
       "      <td>0</td>\n",
       "      <td>FAM58A</td>\n",
       "      <td>Truncating Mutations</td>\n",
       "      <td>1</td>\n",
       "      <td>Cyclin-dependent kinases (CDKs) regulate a var...</td>\n",
       "    </tr>\n",
       "    <tr>\n",
       "      <th>1</th>\n",
       "      <td>1</td>\n",
       "      <td>CBL</td>\n",
       "      <td>W802*</td>\n",
       "      <td>2</td>\n",
       "      <td>Abstract Background  Non-small cell lung canc...</td>\n",
       "    </tr>\n",
       "    <tr>\n",
       "      <th>2</th>\n",
       "      <td>2</td>\n",
       "      <td>CBL</td>\n",
       "      <td>Q249E</td>\n",
       "      <td>2</td>\n",
       "      <td>Abstract Background  Non-small cell lung canc...</td>\n",
       "    </tr>\n",
       "    <tr>\n",
       "      <th>3</th>\n",
       "      <td>3</td>\n",
       "      <td>CBL</td>\n",
       "      <td>N454D</td>\n",
       "      <td>3</td>\n",
       "      <td>Recent evidence has demonstrated that acquired...</td>\n",
       "    </tr>\n",
       "    <tr>\n",
       "      <th>4</th>\n",
       "      <td>4</td>\n",
       "      <td>CBL</td>\n",
       "      <td>L399V</td>\n",
       "      <td>4</td>\n",
       "      <td>Oncogenic mutations in the monomeric Casitas B...</td>\n",
       "    </tr>\n",
       "    <tr>\n",
       "      <th>...</th>\n",
       "      <td>...</td>\n",
       "      <td>...</td>\n",
       "      <td>...</td>\n",
       "      <td>...</td>\n",
       "      <td>...</td>\n",
       "    </tr>\n",
       "    <tr>\n",
       "      <th>3316</th>\n",
       "      <td>3316</td>\n",
       "      <td>RUNX1</td>\n",
       "      <td>D171N</td>\n",
       "      <td>4</td>\n",
       "      <td>Introduction  Myelodysplastic syndromes (MDS) ...</td>\n",
       "    </tr>\n",
       "    <tr>\n",
       "      <th>3317</th>\n",
       "      <td>3317</td>\n",
       "      <td>RUNX1</td>\n",
       "      <td>A122*</td>\n",
       "      <td>1</td>\n",
       "      <td>Introduction  Myelodysplastic syndromes (MDS) ...</td>\n",
       "    </tr>\n",
       "    <tr>\n",
       "      <th>3318</th>\n",
       "      <td>3318</td>\n",
       "      <td>RUNX1</td>\n",
       "      <td>Fusions</td>\n",
       "      <td>1</td>\n",
       "      <td>The Runt-related transcription factor 1 gene (...</td>\n",
       "    </tr>\n",
       "    <tr>\n",
       "      <th>3319</th>\n",
       "      <td>3319</td>\n",
       "      <td>RUNX1</td>\n",
       "      <td>R80C</td>\n",
       "      <td>4</td>\n",
       "      <td>The RUNX1/AML1 gene is the most frequent targe...</td>\n",
       "    </tr>\n",
       "    <tr>\n",
       "      <th>3320</th>\n",
       "      <td>3320</td>\n",
       "      <td>RUNX1</td>\n",
       "      <td>K83E</td>\n",
       "      <td>4</td>\n",
       "      <td>The most frequent mutations associated with le...</td>\n",
       "    </tr>\n",
       "  </tbody>\n",
       "</table>\n",
       "<p>3321 rows × 5 columns</p>\n",
       "</div>"
      ],
      "text/plain": [
       "        ID    Gene             Variation  Class  \\\n",
       "0        0  FAM58A  Truncating Mutations      1   \n",
       "1        1     CBL                 W802*      2   \n",
       "2        2     CBL                 Q249E      2   \n",
       "3        3     CBL                 N454D      3   \n",
       "4        4     CBL                 L399V      4   \n",
       "...    ...     ...                   ...    ...   \n",
       "3316  3316   RUNX1                 D171N      4   \n",
       "3317  3317   RUNX1                 A122*      1   \n",
       "3318  3318   RUNX1               Fusions      1   \n",
       "3319  3319   RUNX1                  R80C      4   \n",
       "3320  3320   RUNX1                  K83E      4   \n",
       "\n",
       "                                                   TEXT  \n",
       "0     Cyclin-dependent kinases (CDKs) regulate a var...  \n",
       "1      Abstract Background  Non-small cell lung canc...  \n",
       "2      Abstract Background  Non-small cell lung canc...  \n",
       "3     Recent evidence has demonstrated that acquired...  \n",
       "4     Oncogenic mutations in the monomeric Casitas B...  \n",
       "...                                                 ...  \n",
       "3316  Introduction  Myelodysplastic syndromes (MDS) ...  \n",
       "3317  Introduction  Myelodysplastic syndromes (MDS) ...  \n",
       "3318  The Runt-related transcription factor 1 gene (...  \n",
       "3319  The RUNX1/AML1 gene is the most frequent targe...  \n",
       "3320  The most frequent mutations associated with le...  \n",
       "\n",
       "[3321 rows x 5 columns]"
      ]
     },
     "execution_count": 110,
     "metadata": {},
     "output_type": "execute_result"
    }
   ],
   "source": [
    "df_final"
   ]
  },
  {
   "cell_type": "code",
   "execution_count": 111,
   "id": "abe669c8",
   "metadata": {},
   "outputs": [],
   "source": [
    "df_final.to_csv(\"df_final.csv\", index = False)"
   ]
  },
  {
   "cell_type": "code",
   "execution_count": 113,
   "id": "82c228b0",
   "metadata": {},
   "outputs": [],
   "source": [
    "import nltk"
   ]
  },
  {
   "cell_type": "code",
   "execution_count": 115,
   "id": "6b029452",
   "metadata": {},
   "outputs": [
    {
     "name": "stderr",
     "output_type": "stream",
     "text": [
      "[nltk_data] Downloading package stopwords to\n",
      "[nltk_data]     /Users/pavanyadavmac/nltk_data...\n",
      "[nltk_data]   Unzipping corpora/stopwords.zip.\n"
     ]
    },
    {
     "data": {
      "text/plain": [
       "True"
      ]
     },
     "execution_count": 115,
     "metadata": {},
     "output_type": "execute_result"
    }
   ],
   "source": [
    "nltk.download('stopwords')"
   ]
  },
  {
   "cell_type": "code",
   "execution_count": 116,
   "id": "123cf43e",
   "metadata": {},
   "outputs": [],
   "source": [
    "from nltk.corpus import stopwords\n",
    "stop_words = set(stopwords.words('english'))"
   ]
  },
  {
   "cell_type": "code",
   "execution_count": 119,
   "id": "eeecb13e",
   "metadata": {},
   "outputs": [],
   "source": [
    "import re"
   ]
  },
  {
   "cell_type": "code",
   "execution_count": 123,
   "id": "ba0eeb24",
   "metadata": {},
   "outputs": [],
   "source": [
    "def data_text_preprocess(total_text, ind, col):\n",
    "    # Remove int values from text data as that might not be imp\n",
    "    if type(total_text) is not int:\n",
    "        string = \"\"\n",
    "        # replacing all special char with space\n",
    "        total_text = re.sub('[^a-zA-Z0-9\\n]', ' ', str(total_text))\n",
    "        # replacing multiple spaces with single space\n",
    "        total_text = re.sub('\\s+',' ', str(total_text))\n",
    "        # bring whole text to same lower-case scale.\n",
    "        total_text = total_text.lower()\n",
    "        \n",
    "        for word in total_text.split():\n",
    "        # if the word is a not a stop word then retain that word from text\n",
    "            if not word in stop_words:\n",
    "                string += word + \" \"\n",
    "        \n",
    "        df_final[col][ind] = string"
   ]
  },
  {
   "cell_type": "code",
   "execution_count": 124,
   "id": "23edd2f9",
   "metadata": {},
   "outputs": [
    {
     "name": "stderr",
     "output_type": "stream",
     "text": [
      "/var/folders/85/z8gc4p_x1_s45wbp3sxx11440000gn/T/ipykernel_14461/2835623675.py:17: SettingWithCopyWarning:\n",
      "\n",
      "\n",
      "A value is trying to be set on a copy of a slice from a DataFrame\n",
      "\n",
      "See the caveats in the documentation: https://pandas.pydata.org/pandas-docs/stable/user_guide/indexing.html#returning-a-view-versus-a-copy\n",
      "\n"
     ]
    }
   ],
   "source": [
    "for index, row in df_final.iterrows():\n",
    "    if type(row['TEXT']) is str:\n",
    "        data_text_preprocess(row['TEXT'], index, 'TEXT')"
   ]
  },
  {
   "cell_type": "code",
   "execution_count": 125,
   "id": "2a7ab92c",
   "metadata": {},
   "outputs": [
    {
     "data": {
      "text/html": [
       "<div>\n",
       "<style scoped>\n",
       "    .dataframe tbody tr th:only-of-type {\n",
       "        vertical-align: middle;\n",
       "    }\n",
       "\n",
       "    .dataframe tbody tr th {\n",
       "        vertical-align: top;\n",
       "    }\n",
       "\n",
       "    .dataframe thead th {\n",
       "        text-align: right;\n",
       "    }\n",
       "</style>\n",
       "<table border=\"1\" class=\"dataframe\">\n",
       "  <thead>\n",
       "    <tr style=\"text-align: right;\">\n",
       "      <th></th>\n",
       "      <th>ID</th>\n",
       "      <th>Gene</th>\n",
       "      <th>Variation</th>\n",
       "      <th>Class</th>\n",
       "      <th>TEXT</th>\n",
       "    </tr>\n",
       "  </thead>\n",
       "  <tbody>\n",
       "    <tr>\n",
       "      <th>0</th>\n",
       "      <td>0</td>\n",
       "      <td>FAM58A</td>\n",
       "      <td>Truncating Mutations</td>\n",
       "      <td>1</td>\n",
       "      <td>cyclin dependent kinases cdks regulate variety...</td>\n",
       "    </tr>\n",
       "    <tr>\n",
       "      <th>1</th>\n",
       "      <td>1</td>\n",
       "      <td>CBL</td>\n",
       "      <td>W802*</td>\n",
       "      <td>2</td>\n",
       "      <td>abstract background non small cell lung cancer...</td>\n",
       "    </tr>\n",
       "    <tr>\n",
       "      <th>2</th>\n",
       "      <td>2</td>\n",
       "      <td>CBL</td>\n",
       "      <td>Q249E</td>\n",
       "      <td>2</td>\n",
       "      <td>abstract background non small cell lung cancer...</td>\n",
       "    </tr>\n",
       "    <tr>\n",
       "      <th>3</th>\n",
       "      <td>3</td>\n",
       "      <td>CBL</td>\n",
       "      <td>N454D</td>\n",
       "      <td>3</td>\n",
       "      <td>recent evidence demonstrated acquired uniparen...</td>\n",
       "    </tr>\n",
       "    <tr>\n",
       "      <th>4</th>\n",
       "      <td>4</td>\n",
       "      <td>CBL</td>\n",
       "      <td>L399V</td>\n",
       "      <td>4</td>\n",
       "      <td>oncogenic mutations monomeric casitas b lineag...</td>\n",
       "    </tr>\n",
       "  </tbody>\n",
       "</table>\n",
       "</div>"
      ],
      "text/plain": [
       "   ID    Gene             Variation  Class  \\\n",
       "0   0  FAM58A  Truncating Mutations      1   \n",
       "1   1     CBL                 W802*      2   \n",
       "2   2     CBL                 Q249E      2   \n",
       "3   3     CBL                 N454D      3   \n",
       "4   4     CBL                 L399V      4   \n",
       "\n",
       "                                                TEXT  \n",
       "0  cyclin dependent kinases cdks regulate variety...  \n",
       "1  abstract background non small cell lung cancer...  \n",
       "2  abstract background non small cell lung cancer...  \n",
       "3  recent evidence demonstrated acquired uniparen...  \n",
       "4  oncogenic mutations monomeric casitas b lineag...  "
      ]
     },
     "execution_count": 125,
     "metadata": {},
     "output_type": "execute_result"
    }
   ],
   "source": [
    "df_final.head()"
   ]
  },
  {
   "cell_type": "code",
   "execution_count": 126,
   "id": "efedcbb9",
   "metadata": {},
   "outputs": [],
   "source": [
    "df_final.to_csv(\"df_final.csv\", index = False)"
   ]
  },
  {
   "cell_type": "code",
   "execution_count": 127,
   "id": "686b9f96",
   "metadata": {},
   "outputs": [
    {
     "data": {
      "text/plain": [
       "<pandas.core.groupby.generic.DataFrameGroupBy object at 0x7fcb6e9ab0d0>"
      ]
     },
     "execution_count": 127,
     "metadata": {},
     "output_type": "execute_result"
    }
   ],
   "source": [
    "df_final.groupby('Class')"
   ]
  },
  {
   "cell_type": "code",
   "execution_count": 128,
   "id": "a20e1ac7",
   "metadata": {},
   "outputs": [
    {
     "data": {
      "text/html": [
       "<div>\n",
       "<style scoped>\n",
       "    .dataframe tbody tr th:only-of-type {\n",
       "        vertical-align: middle;\n",
       "    }\n",
       "\n",
       "    .dataframe tbody tr th {\n",
       "        vertical-align: top;\n",
       "    }\n",
       "\n",
       "    .dataframe thead th {\n",
       "        text-align: right;\n",
       "    }\n",
       "</style>\n",
       "<table border=\"1\" class=\"dataframe\">\n",
       "  <thead>\n",
       "    <tr style=\"text-align: right;\">\n",
       "      <th></th>\n",
       "      <th>ID</th>\n",
       "      <th>Gene</th>\n",
       "      <th>Variation</th>\n",
       "      <th>Class</th>\n",
       "      <th>TEXT</th>\n",
       "    </tr>\n",
       "  </thead>\n",
       "  <tbody>\n",
       "    <tr>\n",
       "      <th>0</th>\n",
       "      <td>0</td>\n",
       "      <td>FAM58A</td>\n",
       "      <td>Truncating Mutations</td>\n",
       "      <td>1</td>\n",
       "      <td>cyclin dependent kinases cdks regulate variety...</td>\n",
       "    </tr>\n",
       "    <tr>\n",
       "      <th>1</th>\n",
       "      <td>1</td>\n",
       "      <td>CBL</td>\n",
       "      <td>W802*</td>\n",
       "      <td>2</td>\n",
       "      <td>abstract background non small cell lung cancer...</td>\n",
       "    </tr>\n",
       "    <tr>\n",
       "      <th>2</th>\n",
       "      <td>2</td>\n",
       "      <td>CBL</td>\n",
       "      <td>Q249E</td>\n",
       "      <td>2</td>\n",
       "      <td>abstract background non small cell lung cancer...</td>\n",
       "    </tr>\n",
       "    <tr>\n",
       "      <th>3</th>\n",
       "      <td>3</td>\n",
       "      <td>CBL</td>\n",
       "      <td>N454D</td>\n",
       "      <td>3</td>\n",
       "      <td>recent evidence demonstrated acquired uniparen...</td>\n",
       "    </tr>\n",
       "    <tr>\n",
       "      <th>4</th>\n",
       "      <td>4</td>\n",
       "      <td>CBL</td>\n",
       "      <td>L399V</td>\n",
       "      <td>4</td>\n",
       "      <td>oncogenic mutations monomeric casitas b lineag...</td>\n",
       "    </tr>\n",
       "  </tbody>\n",
       "</table>\n",
       "</div>"
      ],
      "text/plain": [
       "   ID    Gene             Variation  Class  \\\n",
       "0   0  FAM58A  Truncating Mutations      1   \n",
       "1   1     CBL                 W802*      2   \n",
       "2   2     CBL                 Q249E      2   \n",
       "3   3     CBL                 N454D      3   \n",
       "4   4     CBL                 L399V      4   \n",
       "\n",
       "                                                TEXT  \n",
       "0  cyclin dependent kinases cdks regulate variety...  \n",
       "1  abstract background non small cell lung cancer...  \n",
       "2  abstract background non small cell lung cancer...  \n",
       "3  recent evidence demonstrated acquired uniparen...  \n",
       "4  oncogenic mutations monomeric casitas b lineag...  "
      ]
     },
     "execution_count": 128,
     "metadata": {},
     "output_type": "execute_result"
    }
   ],
   "source": [
    "df_final.head()"
   ]
  },
  {
   "cell_type": "code",
   "execution_count": 130,
   "id": "636aa1a7",
   "metadata": {},
   "outputs": [],
   "source": [
    "data_types_dict = {'TEXT': str}\n",
    "df_final = df_final.astype(data_types_dict)"
   ]
  },
  {
   "cell_type": "code",
   "execution_count": 131,
   "id": "35847ad0",
   "metadata": {},
   "outputs": [],
   "source": [
    "tf1 = df_final.groupby('Class', as_index=False)['TEXT'].apply(' '.join)"
   ]
  },
  {
   "cell_type": "code",
   "execution_count": 133,
   "id": "9f6b586e",
   "metadata": {},
   "outputs": [
    {
     "data": {
      "text/html": [
       "<div>\n",
       "<style scoped>\n",
       "    .dataframe tbody tr th:only-of-type {\n",
       "        vertical-align: middle;\n",
       "    }\n",
       "\n",
       "    .dataframe tbody tr th {\n",
       "        vertical-align: top;\n",
       "    }\n",
       "\n",
       "    .dataframe thead th {\n",
       "        text-align: right;\n",
       "    }\n",
       "</style>\n",
       "<table border=\"1\" class=\"dataframe\">\n",
       "  <thead>\n",
       "    <tr style=\"text-align: right;\">\n",
       "      <th></th>\n",
       "      <th>Class</th>\n",
       "      <th>TEXT</th>\n",
       "    </tr>\n",
       "  </thead>\n",
       "  <tbody>\n",
       "    <tr>\n",
       "      <th>0</th>\n",
       "      <td>1</td>\n",
       "      <td>cyclin dependent kinases cdks regulate variety...</td>\n",
       "    </tr>\n",
       "    <tr>\n",
       "      <th>1</th>\n",
       "      <td>2</td>\n",
       "      <td>abstract background non small cell lung cancer...</td>\n",
       "    </tr>\n",
       "    <tr>\n",
       "      <th>2</th>\n",
       "      <td>3</td>\n",
       "      <td>recent evidence demonstrated acquired uniparen...</td>\n",
       "    </tr>\n",
       "    <tr>\n",
       "      <th>3</th>\n",
       "      <td>4</td>\n",
       "      <td>oncogenic mutations monomeric casitas b lineag...</td>\n",
       "    </tr>\n",
       "    <tr>\n",
       "      <th>4</th>\n",
       "      <td>5</td>\n",
       "      <td>oncogenic mutations monomeric casitas b lineag...</td>\n",
       "    </tr>\n",
       "    <tr>\n",
       "      <th>5</th>\n",
       "      <td>6</td>\n",
       "      <td>abstract background non small cell lung cancer...</td>\n",
       "    </tr>\n",
       "    <tr>\n",
       "      <th>6</th>\n",
       "      <td>7</td>\n",
       "      <td>sequencing studies identified many recurrent c...</td>\n",
       "    </tr>\n",
       "    <tr>\n",
       "      <th>7</th>\n",
       "      <td>8</td>\n",
       "      <td>rna maturation important complex biological pr...</td>\n",
       "    </tr>\n",
       "    <tr>\n",
       "      <th>8</th>\n",
       "      <td>9</td>\n",
       "      <td>rna maturation important complex biological pr...</td>\n",
       "    </tr>\n",
       "  </tbody>\n",
       "</table>\n",
       "</div>"
      ],
      "text/plain": [
       "   Class                                               TEXT\n",
       "0      1  cyclin dependent kinases cdks regulate variety...\n",
       "1      2  abstract background non small cell lung cancer...\n",
       "2      3  recent evidence demonstrated acquired uniparen...\n",
       "3      4  oncogenic mutations monomeric casitas b lineag...\n",
       "4      5  oncogenic mutations monomeric casitas b lineag...\n",
       "5      6  abstract background non small cell lung cancer...\n",
       "6      7  sequencing studies identified many recurrent c...\n",
       "7      8  rna maturation important complex biological pr...\n",
       "8      9  rna maturation important complex biological pr..."
      ]
     },
     "execution_count": 133,
     "metadata": {},
     "output_type": "execute_result"
    }
   ],
   "source": [
    "tf1"
   ]
  },
  {
   "cell_type": "code",
   "execution_count": 134,
   "id": "1f4a8595",
   "metadata": {},
   "outputs": [],
   "source": [
    "tf1.to_csv(\"class_text.csv\", index = False)"
   ]
  },
  {
   "cell_type": "code",
   "execution_count": 136,
   "id": "9503e2ea",
   "metadata": {},
   "outputs": [
    {
     "name": "stderr",
     "output_type": "stream",
     "text": [
      "[nltk_data] Downloading package punkt to\n",
      "[nltk_data]     /Users/pavanyadavmac/nltk_data...\n",
      "[nltk_data]   Unzipping tokenizers/punkt.zip.\n"
     ]
    },
    {
     "data": {
      "text/plain": [
       "True"
      ]
     },
     "execution_count": 136,
     "metadata": {},
     "output_type": "execute_result"
    }
   ],
   "source": [
    "nltk.download('punkt')"
   ]
  },
  {
   "cell_type": "code",
   "execution_count": 155,
   "id": "d3e11952",
   "metadata": {},
   "outputs": [],
   "source": [
    "tf1 = pd.read_csv('class_text.csv')"
   ]
  },
  {
   "cell_type": "code",
   "execution_count": 156,
   "id": "2a349f5e",
   "metadata": {},
   "outputs": [],
   "source": [
    "tf1['tokenized_sents'] = tf1.apply(lambda row: nltk.word_tokenize(row['TEXT']), axis=1)"
   ]
  },
  {
   "cell_type": "code",
   "execution_count": 157,
   "id": "00a7d7ef",
   "metadata": {},
   "outputs": [
    {
     "data": {
      "text/html": [
       "<div>\n",
       "<style scoped>\n",
       "    .dataframe tbody tr th:only-of-type {\n",
       "        vertical-align: middle;\n",
       "    }\n",
       "\n",
       "    .dataframe tbody tr th {\n",
       "        vertical-align: top;\n",
       "    }\n",
       "\n",
       "    .dataframe thead th {\n",
       "        text-align: right;\n",
       "    }\n",
       "</style>\n",
       "<table border=\"1\" class=\"dataframe\">\n",
       "  <thead>\n",
       "    <tr style=\"text-align: right;\">\n",
       "      <th></th>\n",
       "      <th>Class</th>\n",
       "      <th>TEXT</th>\n",
       "      <th>tokenized_sents</th>\n",
       "    </tr>\n",
       "  </thead>\n",
       "  <tbody>\n",
       "    <tr>\n",
       "      <th>0</th>\n",
       "      <td>1</td>\n",
       "      <td>cyclin dependent kinases cdks regulate variety...</td>\n",
       "      <td>[cyclin, dependent, kinases, cdks, regulate, v...</td>\n",
       "    </tr>\n",
       "    <tr>\n",
       "      <th>1</th>\n",
       "      <td>2</td>\n",
       "      <td>abstract background non small cell lung cancer...</td>\n",
       "      <td>[abstract, background, non, small, cell, lung,...</td>\n",
       "    </tr>\n",
       "    <tr>\n",
       "      <th>2</th>\n",
       "      <td>3</td>\n",
       "      <td>recent evidence demonstrated acquired uniparen...</td>\n",
       "      <td>[recent, evidence, demonstrated, acquired, uni...</td>\n",
       "    </tr>\n",
       "    <tr>\n",
       "      <th>3</th>\n",
       "      <td>4</td>\n",
       "      <td>oncogenic mutations monomeric casitas b lineag...</td>\n",
       "      <td>[oncogenic, mutations, monomeric, casitas, b, ...</td>\n",
       "    </tr>\n",
       "    <tr>\n",
       "      <th>4</th>\n",
       "      <td>5</td>\n",
       "      <td>oncogenic mutations monomeric casitas b lineag...</td>\n",
       "      <td>[oncogenic, mutations, monomeric, casitas, b, ...</td>\n",
       "    </tr>\n",
       "    <tr>\n",
       "      <th>5</th>\n",
       "      <td>6</td>\n",
       "      <td>abstract background non small cell lung cancer...</td>\n",
       "      <td>[abstract, background, non, small, cell, lung,...</td>\n",
       "    </tr>\n",
       "    <tr>\n",
       "      <th>6</th>\n",
       "      <td>7</td>\n",
       "      <td>sequencing studies identified many recurrent c...</td>\n",
       "      <td>[sequencing, studies, identified, many, recurr...</td>\n",
       "    </tr>\n",
       "    <tr>\n",
       "      <th>7</th>\n",
       "      <td>8</td>\n",
       "      <td>rna maturation important complex biological pr...</td>\n",
       "      <td>[rna, maturation, important, complex, biologic...</td>\n",
       "    </tr>\n",
       "    <tr>\n",
       "      <th>8</th>\n",
       "      <td>9</td>\n",
       "      <td>rna maturation important complex biological pr...</td>\n",
       "      <td>[rna, maturation, important, complex, biologic...</td>\n",
       "    </tr>\n",
       "  </tbody>\n",
       "</table>\n",
       "</div>"
      ],
      "text/plain": [
       "   Class                                               TEXT  \\\n",
       "0      1  cyclin dependent kinases cdks regulate variety...   \n",
       "1      2  abstract background non small cell lung cancer...   \n",
       "2      3  recent evidence demonstrated acquired uniparen...   \n",
       "3      4  oncogenic mutations monomeric casitas b lineag...   \n",
       "4      5  oncogenic mutations monomeric casitas b lineag...   \n",
       "5      6  abstract background non small cell lung cancer...   \n",
       "6      7  sequencing studies identified many recurrent c...   \n",
       "7      8  rna maturation important complex biological pr...   \n",
       "8      9  rna maturation important complex biological pr...   \n",
       "\n",
       "                                     tokenized_sents  \n",
       "0  [cyclin, dependent, kinases, cdks, regulate, v...  \n",
       "1  [abstract, background, non, small, cell, lung,...  \n",
       "2  [recent, evidence, demonstrated, acquired, uni...  \n",
       "3  [oncogenic, mutations, monomeric, casitas, b, ...  \n",
       "4  [oncogenic, mutations, monomeric, casitas, b, ...  \n",
       "5  [abstract, background, non, small, cell, lung,...  \n",
       "6  [sequencing, studies, identified, many, recurr...  \n",
       "7  [rna, maturation, important, complex, biologic...  \n",
       "8  [rna, maturation, important, complex, biologic...  "
      ]
     },
     "execution_count": 157,
     "metadata": {},
     "output_type": "execute_result"
    }
   ],
   "source": [
    "tf1"
   ]
  },
  {
   "cell_type": "code",
   "execution_count": 158,
   "id": "e2b09240",
   "metadata": {},
   "outputs": [],
   "source": [
    "tf2 = tf1[:1]"
   ]
  },
  {
   "cell_type": "code",
   "execution_count": 172,
   "id": "6e04ecc2",
   "metadata": {},
   "outputs": [
    {
     "data": {
      "text/plain": [
       "0    [cyclin, dependent, kinases, cdks, regulate, v...\n",
       "Name: tokenized_sents, dtype: object"
      ]
     },
     "execution_count": 172,
     "metadata": {},
     "output_type": "execute_result"
    }
   ],
   "source": [
    "tf2['tokenized_sents']"
   ]
  },
  {
   "cell_type": "code",
   "execution_count": 182,
   "id": "975615dd",
   "metadata": {},
   "outputs": [],
   "source": [
    "Classt1 = tf2.drop(['Class','TEXT'], axis = 1)"
   ]
  },
  {
   "cell_type": "code",
   "execution_count": 183,
   "id": "ec6bc487",
   "metadata": {},
   "outputs": [
    {
     "data": {
      "text/html": [
       "<div>\n",
       "<style scoped>\n",
       "    .dataframe tbody tr th:only-of-type {\n",
       "        vertical-align: middle;\n",
       "    }\n",
       "\n",
       "    .dataframe tbody tr th {\n",
       "        vertical-align: top;\n",
       "    }\n",
       "\n",
       "    .dataframe thead th {\n",
       "        text-align: right;\n",
       "    }\n",
       "</style>\n",
       "<table border=\"1\" class=\"dataframe\">\n",
       "  <thead>\n",
       "    <tr style=\"text-align: right;\">\n",
       "      <th></th>\n",
       "      <th>tokenized_sents</th>\n",
       "    </tr>\n",
       "  </thead>\n",
       "  <tbody>\n",
       "    <tr>\n",
       "      <th>0</th>\n",
       "      <td>[cyclin, dependent, kinases, cdks, regulate, v...</td>\n",
       "    </tr>\n",
       "  </tbody>\n",
       "</table>\n",
       "</div>"
      ],
      "text/plain": [
       "                                     tokenized_sents\n",
       "0  [cyclin, dependent, kinases, cdks, regulate, v..."
      ]
     },
     "execution_count": 183,
     "metadata": {},
     "output_type": "execute_result"
    }
   ],
   "source": [
    "Classt1"
   ]
  },
  {
   "cell_type": "code",
   "execution_count": 196,
   "id": "482ceb14",
   "metadata": {},
   "outputs": [],
   "source": [
    "Classt1.to_csv('Classtext1.csv')"
   ]
  },
  {
   "cell_type": "code",
   "execution_count": 200,
   "id": "80ecd49a",
   "metadata": {},
   "outputs": [],
   "source": [
    "ml = Classt1['tokenized_sents'][0]"
   ]
  },
  {
   "cell_type": "code",
   "execution_count": 202,
   "id": "2f9b77e6",
   "metadata": {},
   "outputs": [
    {
     "data": {
      "text/plain": [
       "list"
      ]
     },
     "execution_count": 202,
     "metadata": {},
     "output_type": "execute_result"
    }
   ],
   "source": [
    "type(ml)"
   ]
  },
  {
   "cell_type": "code",
   "execution_count": 225,
   "id": "e542dca7",
   "metadata": {},
   "outputs": [],
   "source": [
    "l = ['0','1','2','3','4','5','6','7','8','9','et','al','fig','a','b','c','d','e','f','g','h','i','j','k','l','m','n','o','p','q','r','s','t','u','v','w','x','figure','y','z']\n",
    "ml1 = [x for x in ml if x not in l]"
   ]
  },
  {
   "cell_type": "code",
   "execution_count": 226,
   "id": "13b93861",
   "metadata": {},
   "outputs": [
    {
     "data": {
      "text/plain": [
       "dict"
      ]
     },
     "execution_count": 226,
     "metadata": {},
     "output_type": "execute_result"
    }
   ],
   "source": [
    "frequency = {}\n",
    "\n",
    "# iterating over the list\n",
    "for item in ml1:\n",
    "   # checking the element in dictionary\n",
    "   if item in frequency:\n",
    "      # incrementing the counr\n",
    "      frequency[item] += 1\n",
    "   else:\n",
    "      # initializing the count\n",
    "      frequency[item] = 1\n",
    "\n",
    "# printing the frequency\n",
    "type(frequency)"
   ]
  },
  {
   "cell_type": "code",
   "execution_count": 227,
   "id": "16f1cf95",
   "metadata": {},
   "outputs": [],
   "source": [
    "sorted1 = sorted(frequency.items(), key=lambda x:x[1], reverse=True)"
   ]
  },
  {
   "cell_type": "code",
   "execution_count": 229,
   "id": "cfbc10b1",
   "metadata": {},
   "outputs": [
    {
     "data": {
      "text/plain": [
       "[('mutations', 33734),\n",
       " ('cells', 28451),\n",
       " ('cell', 20386),\n",
       " ('p53', 19542),\n",
       " ('protein', 18145),\n",
       " ('cancer', 17988),\n",
       " ('mutation', 17261),\n",
       " ('dna', 15457),\n",
       " ('binding', 15436),\n",
       " ('type', 15189),\n",
       " ('expression', 14541),\n",
       " ('variants', 13775),\n",
       " ('gene', 12854),\n",
       " ('mutant', 12729),\n",
       " ('wild', 12034),\n",
       " ('tumor', 11925),\n",
       " ('domain', 11238),\n",
       " ('also', 11170),\n",
       " ('using', 10732),\n",
       " ('analysis', 10544)]"
      ]
     },
     "execution_count": 229,
     "metadata": {},
     "output_type": "execute_result"
    }
   ],
   "source": [
    "sorted1[:20]"
   ]
  },
  {
   "cell_type": "code",
   "execution_count": 233,
   "id": "a17fc478",
   "metadata": {},
   "outputs": [],
   "source": [
    "tf2 = tf1[1:2]"
   ]
  },
  {
   "cell_type": "code",
   "execution_count": 234,
   "id": "cc7b5978",
   "metadata": {},
   "outputs": [
    {
     "data": {
      "text/html": [
       "<div>\n",
       "<style scoped>\n",
       "    .dataframe tbody tr th:only-of-type {\n",
       "        vertical-align: middle;\n",
       "    }\n",
       "\n",
       "    .dataframe tbody tr th {\n",
       "        vertical-align: top;\n",
       "    }\n",
       "\n",
       "    .dataframe thead th {\n",
       "        text-align: right;\n",
       "    }\n",
       "</style>\n",
       "<table border=\"1\" class=\"dataframe\">\n",
       "  <thead>\n",
       "    <tr style=\"text-align: right;\">\n",
       "      <th></th>\n",
       "      <th>Class</th>\n",
       "      <th>TEXT</th>\n",
       "      <th>tokenized_sents</th>\n",
       "    </tr>\n",
       "  </thead>\n",
       "  <tbody>\n",
       "    <tr>\n",
       "      <th>1</th>\n",
       "      <td>2</td>\n",
       "      <td>abstract background non small cell lung cancer...</td>\n",
       "      <td>[abstract, background, non, small, cell, lung,...</td>\n",
       "    </tr>\n",
       "  </tbody>\n",
       "</table>\n",
       "</div>"
      ],
      "text/plain": [
       "   Class                                               TEXT  \\\n",
       "1      2  abstract background non small cell lung cancer...   \n",
       "\n",
       "                                     tokenized_sents  \n",
       "1  [abstract, background, non, small, cell, lung,...  "
      ]
     },
     "execution_count": 234,
     "metadata": {},
     "output_type": "execute_result"
    }
   ],
   "source": [
    "tf2"
   ]
  },
  {
   "cell_type": "code",
   "execution_count": 243,
   "id": "bce5d17c",
   "metadata": {},
   "outputs": [],
   "source": [
    "Classt2 = tf2.drop(['Class','TEXT'], axis = 1)"
   ]
  },
  {
   "cell_type": "code",
   "execution_count": 244,
   "id": "9b4e4dd5",
   "metadata": {},
   "outputs": [],
   "source": [
    "Classt2.to_csv('Classtext2.csv')"
   ]
  },
  {
   "cell_type": "code",
   "execution_count": 246,
   "id": "dea2ff76",
   "metadata": {},
   "outputs": [
    {
     "data": {
      "text/html": [
       "<div>\n",
       "<style scoped>\n",
       "    .dataframe tbody tr th:only-of-type {\n",
       "        vertical-align: middle;\n",
       "    }\n",
       "\n",
       "    .dataframe tbody tr th {\n",
       "        vertical-align: top;\n",
       "    }\n",
       "\n",
       "    .dataframe thead th {\n",
       "        text-align: right;\n",
       "    }\n",
       "</style>\n",
       "<table border=\"1\" class=\"dataframe\">\n",
       "  <thead>\n",
       "    <tr style=\"text-align: right;\">\n",
       "      <th></th>\n",
       "      <th>tokenized_sents</th>\n",
       "    </tr>\n",
       "  </thead>\n",
       "  <tbody>\n",
       "    <tr>\n",
       "      <th>1</th>\n",
       "      <td>[abstract, background, non, small, cell, lung,...</td>\n",
       "    </tr>\n",
       "  </tbody>\n",
       "</table>\n",
       "</div>"
      ],
      "text/plain": [
       "                                     tokenized_sents\n",
       "1  [abstract, background, non, small, cell, lung,..."
      ]
     },
     "execution_count": 246,
     "metadata": {},
     "output_type": "execute_result"
    }
   ],
   "source": [
    "Classt2"
   ]
  },
  {
   "cell_type": "code",
   "execution_count": 247,
   "id": "4ad54c7d",
   "metadata": {},
   "outputs": [],
   "source": [
    "ml = Classt2['tokenized_sents'][1]"
   ]
  },
  {
   "cell_type": "code",
   "execution_count": 248,
   "id": "e6737d37",
   "metadata": {},
   "outputs": [],
   "source": [
    "l = ['0','1','2','3','4','5','6','7','8','9','et','al','fig','a','b','c','d','e','f','g','h','i','j','k','l','m','n','o','p','q','r','s','t','u','v','w','x','figure','y','z']\n",
    "ml2 = [x for x in ml if x not in l]"
   ]
  },
  {
   "cell_type": "code",
   "execution_count": 253,
   "id": "be82c0f2",
   "metadata": {},
   "outputs": [
    {
     "data": {
      "text/plain": [
       "dict"
      ]
     },
     "execution_count": 253,
     "metadata": {},
     "output_type": "execute_result"
    }
   ],
   "source": [
    "frequency = {}\n",
    "\n",
    "# iterating over the list\n",
    "for item in ml2:\n",
    "   # checking the element in dictionary\n",
    "   if item in frequency:\n",
    "      # incrementing the counr\n",
    "      frequency[item] += 1\n",
    "   else:\n",
    "      # initializing the count\n",
    "      frequency[item] = 1\n",
    "\n",
    "# printing the frequency\n",
    "type(frequency)"
   ]
  },
  {
   "cell_type": "code",
   "execution_count": 254,
   "id": "795d700e",
   "metadata": {},
   "outputs": [
    {
     "data": {
      "text/plain": [
       "{'abstract': 158,\n",
       " 'background': 400,\n",
       " 'non': 2761,\n",
       " 'small': 2955,\n",
       " 'cell': 18315,\n",
       " 'lung': 4323,\n",
       " 'cancer': 13271,\n",
       " 'nsclc': 2684,\n",
       " 'heterogeneous': 309,\n",
       " 'group': 2519,\n",
       " 'disorders': 373,\n",
       " 'number': 4571,\n",
       " 'genetic': 2276,\n",
       " 'proteomic': 21,\n",
       " 'alterations': 2923,\n",
       " 'cbl': 952,\n",
       " 'e3': 156,\n",
       " 'ubiquitin': 294,\n",
       " 'ligase': 223,\n",
       " 'adaptor': 153,\n",
       " 'molecule': 782,\n",
       " 'important': 1901,\n",
       " 'normal': 3030,\n",
       " 'homeostasis': 71,\n",
       " 'determined': 1423,\n",
       " 'variations': 218,\n",
       " 'relationship': 276,\n",
       " 'receptor': 4338,\n",
       " 'tyrosine': 3357,\n",
       " 'kinases': 1724,\n",
       " 'egfr': 11886,\n",
       " 'met': 4647,\n",
       " 'functionality': 24,\n",
       " 'methods': 1899,\n",
       " 'findings': 1528,\n",
       " 'using': 8822,\n",
       " 'archival': 42,\n",
       " 'formalin': 380,\n",
       " 'fixed': 580,\n",
       " 'paraffin': 574,\n",
       " 'embedded': 527,\n",
       " 'ffpe': 316,\n",
       " 'extracted': 575,\n",
       " 'genomic': 2272,\n",
       " 'dna': 5250,\n",
       " 'show': 1650,\n",
       " 'mutations': 34612,\n",
       " 'occur': 1060,\n",
       " 'somatic': 2292,\n",
       " 'fashion': 157,\n",
       " 'cancers': 3083,\n",
       " 'mutually': 312,\n",
       " 'exclusive': 361,\n",
       " 'however': 4245,\n",
       " 'independent': 2395,\n",
       " 'p53': 1351,\n",
       " 'kras': 3322,\n",
       " 'tumor': 11282,\n",
       " 'pairwise': 30,\n",
       " 'analysis': 7711,\n",
       " 'significant': 2477,\n",
       " 'loss': 1794,\n",
       " 'heterozygosity': 100,\n",
       " 'loh': 173,\n",
       " 'locus': 583,\n",
       " '22': 2056,\n",
       " '37': 1321,\n",
       " 'none': 1056,\n",
       " 'samples': 4843,\n",
       " 'revealed': 1835,\n",
       " 'mutation': 15202,\n",
       " 'remaining': 581,\n",
       " 'copy': 1959,\n",
       " 'also': 8720,\n",
       " 'positively': 191,\n",
       " 'correlated': 558,\n",
       " 'observed': 4611,\n",
       " 'select': 205,\n",
       " 's80n': 28,\n",
       " 'h94y': 28,\n",
       " 'q249e': 26,\n",
       " 'w802': 26,\n",
       " 'obtained': 1972,\n",
       " 'caucasian': 130,\n",
       " 'taiwanese': 57,\n",
       " 'african': 69,\n",
       " 'american': 566,\n",
       " 'respectively': 2311,\n",
       " 'transfected': 1886,\n",
       " 'lines': 4798,\n",
       " 'increased': 2943,\n",
       " 'viability': 631,\n",
       " 'motility': 186,\n",
       " 'conclusions': 306,\n",
       " 'taking': 72,\n",
       " 'overall': 1951,\n",
       " 'rate': 1805,\n",
       " 'combination': 1013,\n",
       " 'missense': 1121,\n",
       " 'clear': 667,\n",
       " 'highly': 1619,\n",
       " 'mutated': 3140,\n",
       " 'may': 6925,\n",
       " 'play': 654,\n",
       " 'essential': 632,\n",
       " 'role': 2863,\n",
       " 'tumorigenesis': 554,\n",
       " 'metastasis': 664,\n",
       " 'go': 1517,\n",
       " 'introduction': 732,\n",
       " 'us': 375,\n",
       " 'alone': 836,\n",
       " 'year': 766,\n",
       " 'approximately': 839,\n",
       " '219': 31,\n",
       " '400': 619,\n",
       " 'people': 31,\n",
       " 'diagnosed': 514,\n",
       " '145': 97,\n",
       " '000': 989,\n",
       " 'succumb': 11,\n",
       " 'disease': 4001,\n",
       " 'roughly': 78,\n",
       " 'equivalent': 321,\n",
       " 'combined': 459,\n",
       " 'mortality': 97,\n",
       " 'rates': 840,\n",
       " 'breast': 2063,\n",
       " 'prostate': 1210,\n",
       " 'colon': 447,\n",
       " 'liver': 670,\n",
       " 'kidney': 174,\n",
       " 'melanoma': 2136,\n",
       " 'addition': 2293,\n",
       " 'prognosis': 478,\n",
       " 'usually': 276,\n",
       " 'poor': 519,\n",
       " 'five': 1165,\n",
       " 'survival': 3242,\n",
       " 'less': 1578,\n",
       " '15': 4103,\n",
       " 'ethnic': 140,\n",
       " 'differences': 1345,\n",
       " 'outcome': 611,\n",
       " 'worse': 149,\n",
       " 'blacks': 7,\n",
       " 'compared': 3349,\n",
       " 'whites': 7,\n",
       " 'gender': 183,\n",
       " 'striking': 151,\n",
       " 'women': 208,\n",
       " 'significantly': 2301,\n",
       " 'better': 657,\n",
       " 'men': 232,\n",
       " 'example': 872,\n",
       " 'identified': 6390,\n",
       " 'many': 1617,\n",
       " 'pathways': 1970,\n",
       " 'especially': 353,\n",
       " 'rtks': 288,\n",
       " 'controlled': 193,\n",
       " 'casitas': 2,\n",
       " 'lineage': 420,\n",
       " 'lymphoma': 799,\n",
       " 'mammalian': 314,\n",
       " 'gene': 10057,\n",
       " 'located': 1112,\n",
       " 'human': 4238,\n",
       " 'chromosome': 1387,\n",
       " '11q23': 24,\n",
       " 'involved': 1364,\n",
       " 'signaling': 6239,\n",
       " 'protein': 7857,\n",
       " 'ubiquitination': 439,\n",
       " 'proteins': 3542,\n",
       " 'belong': 46,\n",
       " 'ring': 191,\n",
       " 'finger': 167,\n",
       " 'class': 659,\n",
       " 'ligases': 24,\n",
       " 'three': 4074,\n",
       " 'homologues': 27,\n",
       " 'genes': 6749,\n",
       " 'ubiquitously': 44,\n",
       " 'expressed': 2437,\n",
       " 'highest': 408,\n",
       " 'levels': 3955,\n",
       " 'hematopoietic': 452,\n",
       " 'tissues': 1053,\n",
       " 'consists': 138,\n",
       " 'four': 1892,\n",
       " 'regions': 1239,\n",
       " 'encoding': 779,\n",
       " 'functionally': 430,\n",
       " 'distinct': 1401,\n",
       " 'domains': 1546,\n",
       " 'terminal': 1428,\n",
       " 'kinase': 12655,\n",
       " 'binding': 5233,\n",
       " 'tkb': 173,\n",
       " 'domain': 7897,\n",
       " 'linker': 202,\n",
       " 'region': 2465,\n",
       " 'catalytic': 876,\n",
       " 'proline': 174,\n",
       " 'rich': 328,\n",
       " 'associated': 4578,\n",
       " 'uba': 5,\n",
       " 'overlaps': 40,\n",
       " 'leucine': 186,\n",
       " 'zipper': 58,\n",
       " 'lz': 15,\n",
       " 'ligand': 1536,\n",
       " 'induced': 2626,\n",
       " 'required': 1483,\n",
       " 'recruitment': 396,\n",
       " 'e2': 113,\n",
       " 'conjugating': 12,\n",
       " 'enzymes': 208,\n",
       " 'includes': 351,\n",
       " 'helix': 1181,\n",
       " 'bundle': 14,\n",
       " '4h': 25,\n",
       " 'calcium': 142,\n",
       " 'biding': 2,\n",
       " 'ef': 32,\n",
       " 'hand': 449,\n",
       " 'modified': 325,\n",
       " 'sh2': 435,\n",
       " 'binds': 440,\n",
       " 'phosphotyrosine': 157,\n",
       " 'residues': 2514,\n",
       " '10': 7876,\n",
       " '11': 5300,\n",
       " '12': 4714,\n",
       " 'associate': 120,\n",
       " 'sh3': 75,\n",
       " 'grb2': 101,\n",
       " 'indirectly': 66,\n",
       " 'recruit': 63,\n",
       " 'via': 801,\n",
       " '13': 3687,\n",
       " '14': 4097,\n",
       " 'acts': 155,\n",
       " 'targets': 1061,\n",
       " 'degradation': 558,\n",
       " 'furthermore': 1069,\n",
       " 'desensitizes': 6,\n",
       " 'egf': 587,\n",
       " 'opposes': 3,\n",
       " 'cellular': 1465,\n",
       " 'proliferation': 2580,\n",
       " 'activation': 7687,\n",
       " 'appears': 480,\n",
       " 'activate': 1144,\n",
       " 'src': 773,\n",
       " 'phosphorylates': 114,\n",
       " 'turn': 221,\n",
       " 'activates': 427,\n",
       " '16': 2775,\n",
       " '17': 3107,\n",
       " '18': 3562,\n",
       " 'recent': 1277,\n",
       " 'study': 5758,\n",
       " 'shows': 722,\n",
       " 'defective': 261,\n",
       " 'endocytosis': 34,\n",
       " 'characterized': 1227,\n",
       " 'deletion': 1856,\n",
       " 'mutant': 8302,\n",
       " 'point': 1825,\n",
       " 'l858r': 1365,\n",
       " 'whereby': 86,\n",
       " 'association': 1331,\n",
       " 'subsequent': 705,\n",
       " 'impaired': 532,\n",
       " '19': 3364,\n",
       " 'recently': 1568,\n",
       " 'first': 3027,\n",
       " 'reported': 4082,\n",
       " 'acute': 628,\n",
       " 'myeloid': 735,\n",
       " 'leukemia': 1578,\n",
       " 'aml': 699,\n",
       " 'patients': 19283,\n",
       " '20': 5277,\n",
       " 'r420q': 4,\n",
       " 'inhibits': 595,\n",
       " 'fms': 37,\n",
       " 'like': 1465,\n",
       " 'flt3': 484,\n",
       " 'internalization': 81,\n",
       " 'activity': 8059,\n",
       " 'oncogenesis': 206,\n",
       " 'dual': 295,\n",
       " 'separate': 308,\n",
       " 'function': 2812,\n",
       " 'signal': 1298,\n",
       " 'transduction': 464,\n",
       " 'previously': 3805,\n",
       " 'shown': 5240,\n",
       " 'crkl': 61,\n",
       " 'bcr': 1980,\n",
       " 'abl': 2255,\n",
       " 'cells': 23165,\n",
       " 'bind': 571,\n",
       " 'modulate': 91,\n",
       " 'functions': 735,\n",
       " 'cytoskeleton': 44,\n",
       " 'talin': 2,\n",
       " 'paxillin': 43,\n",
       " 'molecules': 677,\n",
       " 'given': 1204,\n",
       " 'critical': 800,\n",
       " 'hypothesized': 216,\n",
       " 'might': 1635,\n",
       " 'report': 986,\n",
       " 'novel': 1998,\n",
       " 'expressing': 3116,\n",
       " 'lead': 907,\n",
       " 'without': 1742,\n",
       " 'additionally': 407,\n",
       " 'either': 2531,\n",
       " 'thus': 2238,\n",
       " 'hypothesize': 78,\n",
       " 'contribute': 586,\n",
       " 'oncogenic': 3840,\n",
       " 'potential': 2032,\n",
       " 'ethics': 88,\n",
       " 'statement': 17,\n",
       " 'written': 162,\n",
       " 'consent': 361,\n",
       " 'research': 1007,\n",
       " 'subjects': 312,\n",
       " 'institutional': 375,\n",
       " 'review': 717,\n",
       " 'board': 244,\n",
       " 'university': 719,\n",
       " 'chicago': 65,\n",
       " 'covers': 19,\n",
       " 'performed': 3378,\n",
       " 'laboratory': 280,\n",
       " 'following': 1516,\n",
       " 'contact': 488,\n",
       " 'information': 820,\n",
       " 'mcgiffert': 2,\n",
       " 'hall': 46,\n",
       " '5751': 2,\n",
       " 'woodlawn': 2,\n",
       " 'ave': 7,\n",
       " '2nd': 36,\n",
       " 'floor': 5,\n",
       " 'il': 1088,\n",
       " '60637': 2,\n",
       " 'informed': 328,\n",
       " 'consents': 4,\n",
       " 'received': 891,\n",
       " 'whose': 543,\n",
       " 'tissue': 2441,\n",
       " 'used': 4431,\n",
       " 'paired': 436,\n",
       " 'adjacent': 485,\n",
       " '50': 2795,\n",
       " '29': 1487,\n",
       " 'americans': 43,\n",
       " '40': 1940,\n",
       " 'recruited': 132,\n",
       " 'hospital': 515,\n",
       " 'usa': 616,\n",
       " 'taipei': 19,\n",
       " 'veterans': 29,\n",
       " 'general': 366,\n",
       " 'taiwan': 113,\n",
       " 'obtaining': 40,\n",
       " 'appropriate': 364,\n",
       " 'permission': 44,\n",
       " '119': 113,\n",
       " '77': 323,\n",
       " '38': 983,\n",
       " 'unknown': 1054,\n",
       " 'age': 1330,\n",
       " 'diagnosis': 1030,\n",
       " 'ranging': 199,\n",
       " '47': 733,\n",
       " '90': 1088,\n",
       " 'years': 1354,\n",
       " 'terms': 208,\n",
       " 'types': 2068,\n",
       " '53': 546,\n",
       " 'adenocarcinoma': 1031,\n",
       " '32': 1408,\n",
       " 'squamous': 805,\n",
       " 'carcinoma': 1445,\n",
       " '34': 1177,\n",
       " 'large': 1550,\n",
       " '49': 542,\n",
       " 'stage': 1190,\n",
       " 'ii': 1382,\n",
       " 'iii': 543,\n",
       " 'iv': 488,\n",
       " 'table': 7098,\n",
       " 's1': 887,\n",
       " 'culture': 818,\n",
       " 'a549': 168,\n",
       " 'h358': 42,\n",
       " 'maintained': 372,\n",
       " 'dmem': 335,\n",
       " 'rpmi': 277,\n",
       " '1640': 156,\n",
       " 'embryonic': 246,\n",
       " '293t': 250,\n",
       " 'cultured': 604,\n",
       " 'media': 335,\n",
       " 'supplemented': 372,\n",
       " 'fetal': 270,\n",
       " 'bovine': 236,\n",
       " 'serum': 1371,\n",
       " '100': 2515,\n",
       " 'units': 144,\n",
       " 'ml': 1740,\n",
       " 'penicillin': 143,\n",
       " 'streptomycin': 140,\n",
       " 'invitrogen': 766,\n",
       " 'carlsbad': 165,\n",
       " 'ca': 1213,\n",
       " 'humidified': 45,\n",
       " 'incubator': 26,\n",
       " 'containing': 1923,\n",
       " 'co2': 106,\n",
       " 'mutational': 1639,\n",
       " 'exons': 2195,\n",
       " 'individually': 60,\n",
       " 'amplified': 1363,\n",
       " 'polymerase': 530,\n",
       " 'chain': 880,\n",
       " 'reaction': 822,\n",
       " 'pcr': 3948,\n",
       " 'primers': 1073,\n",
       " 'listed': 332,\n",
       " 's2': 834,\n",
       " 'conditions': 904,\n",
       " 'cycle': 1134,\n",
       " '95': 1091,\n",
       " 'minutes': 435,\n",
       " '35': 1265,\n",
       " 'cycles': 389,\n",
       " '94': 301,\n",
       " '30': 2746,\n",
       " 'seconds': 86,\n",
       " '58': 603,\n",
       " '72': 810,\n",
       " 'one': 5481,\n",
       " 'products': 740,\n",
       " 'treated': 2915,\n",
       " 'exosap': 13,\n",
       " 'usb': 23,\n",
       " 'corporation': 72,\n",
       " 'cleveland': 30,\n",
       " 'oh': 67,\n",
       " 'sequenced': 928,\n",
       " 'big': 54,\n",
       " 'dye': 121,\n",
       " 'terminator': 103,\n",
       " 'chemistry': 75,\n",
       " 'applied': 781,\n",
       " 'biosystems': 446,\n",
       " 'foster': 110,\n",
       " 'city': 130,\n",
       " 'sequencing': 4342,\n",
       " 'forward': 426,\n",
       " 'coding': 768,\n",
       " 'strand': 222,\n",
       " 'confirmation': 136,\n",
       " 'reverse': 835,\n",
       " 'well': 4018,\n",
       " 'chromatograms': 39,\n",
       " 'analyzed': 1999,\n",
       " 'surveyor': 201,\n",
       " 'v2': 74,\n",
       " '61': 723,\n",
       " 'softgenetics': 33,\n",
       " 'state': 1005,\n",
       " 'college': 52,\n",
       " 'pa': 159,\n",
       " 'plasmid': 531,\n",
       " 'constructs': 877,\n",
       " 'site': 2682,\n",
       " 'directed': 576,\n",
       " 'mutagenesis': 659,\n",
       " 'wild': 5064,\n",
       " 'type': 7343,\n",
       " 'cdna': 1222,\n",
       " 'insert': 120,\n",
       " 'subcloned': 147,\n",
       " 'paltermax': 6,\n",
       " 'expression': 9899,\n",
       " 'vector': 1341,\n",
       " 'xhoi': 36,\n",
       " 'sali': 20,\n",
       " 'restriction': 243,\n",
       " 'enzyme': 475,\n",
       " 'sites': 1288,\n",
       " 'promega': 313,\n",
       " 'madison': 86,\n",
       " 'wi': 99,\n",
       " 'parental': 492,\n",
       " 'double': 630,\n",
       " 'created': 161,\n",
       " 'gctggcgctaaagaataacccaccttatatcttagac': 2,\n",
       " 'ctaccagatacctaccagtatctccgtactatcttgtc': 2,\n",
       " 'ctttacccgactctttgagccctggtcctctttgc': 2,\n",
       " 'cagctcctcctttggctgattgtctctggatggtgatc': 2,\n",
       " 'along': 433,\n",
       " 'complementary': 129,\n",
       " 'quickchange': 45,\n",
       " 'xl': 129,\n",
       " 'kit': 10434,\n",
       " 'stratagene': 163,\n",
       " 'la': 146,\n",
       " 'jolla': 85,\n",
       " 'according': 1607,\n",
       " 'manufacturer': 708,\n",
       " 'instructions': 412,\n",
       " 'confirmed': 1707,\n",
       " 'standard': 893,\n",
       " 'strands': 60,\n",
       " 'microsatellites': 3,\n",
       " '11q': 35,\n",
       " 'within': 2890,\n",
       " '200': 698,\n",
       " 'kb': 417,\n",
       " 'downstream': 1709,\n",
       " 'control': 3181,\n",
       " 'markers': 359,\n",
       " '11p': 13,\n",
       " 'selected': 1060,\n",
       " 's3': 575,\n",
       " 'established': 883,\n",
       " 'microsatellite': 57,\n",
       " 'respective': 271,\n",
       " 'primer': 786,\n",
       " 'sequences': 1024,\n",
       " 'geneloc': 4,\n",
       " 'database': 443,\n",
       " 'http': 505,\n",
       " 'genecards': 2,\n",
       " 'weizmann': 4,\n",
       " 'ac': 185,\n",
       " 'index': 443,\n",
       " 'shtml': 4,\n",
       " 'institute': 449,\n",
       " 'science': 307,\n",
       " 'rehovot': 4,\n",
       " 'israel': 21,\n",
       " 'custom': 88,\n",
       " 'designed': 356,\n",
       " 'fluorescently': 14,\n",
       " 'labeled': 385,\n",
       " 'end': 880,\n",
       " 'fam': 54,\n",
       " 'pet': 62,\n",
       " 'ned': 59,\n",
       " 'vic': 7,\n",
       " 'annealing': 119,\n",
       " 'temperatures': 46,\n",
       " 'duplex': 8,\n",
       " 'scores': 180,\n",
       " 'evaluated': 789,\n",
       " 'nist': 5,\n",
       " 'tools': 167,\n",
       " 'yellow': 229,\n",
       " 'gov': 151,\n",
       " '8444': 2,\n",
       " 'dnaanalysis': 2,\n",
       " 'primertoolspage': 2,\n",
       " 'national': 321,\n",
       " 'standards': 36,\n",
       " 'technology': 362,\n",
       " 'gaithersburg': 22,\n",
       " 'md': 394,\n",
       " 'verified': 183,\n",
       " 'performing': 94,\n",
       " 'isolated': 801,\n",
       " 'tk6': 2,\n",
       " 'resolving': 5,\n",
       " 'agarose': 238,\n",
       " 'gels': 146,\n",
       " 'bands': 212,\n",
       " 'visualized': 262,\n",
       " 'uv': 168,\n",
       " 'transilluminator': 4,\n",
       " 'grouped': 65,\n",
       " 'multiplex': 122,\n",
       " 'combinations': 200,\n",
       " 's4': 406,\n",
       " 'marker': 343,\n",
       " 'd11s929': 2,\n",
       " 'served': 104,\n",
       " 'internal': 270,\n",
       " 'check': 35,\n",
       " 'consistency': 27,\n",
       " 'pcrs': 43,\n",
       " 'peaks': 123,\n",
       " 'capillary': 104,\n",
       " 'electrophoresis': 214,\n",
       " 'carried': 782,\n",
       " 'volume': 479,\n",
       " 'contained': 461,\n",
       " 'ng': 827,\n",
       " 'total': 2285,\n",
       " 'pair': 264,\n",
       " 'dntps': 23,\n",
       " '1x': 52,\n",
       " 'buffer': 872,\n",
       " 'mgcl2': 133,\n",
       " 'taq': 95,\n",
       " 'abi': 245,\n",
       " 'geneamp': 6,\n",
       " '9700': 2,\n",
       " 'system': 1213,\n",
       " 'min': 1155,\n",
       " 'sec': 56,\n",
       " '60': 1395,\n",
       " 'separated': 277,\n",
       " '3130xl': 3,\n",
       " 'analyzer': 168,\n",
       " 'peak': 138,\n",
       " 'scanner': 20,\n",
       " 'genemapper': 12,\n",
       " 'software': 604,\n",
       " 'allelic': 234,\n",
       " 'area': 264,\n",
       " 'produced': 396,\n",
       " 'quantified': 175,\n",
       " 'allele': 1547,\n",
       " 'ratio': 647,\n",
       " 'areas': 252,\n",
       " 'calculated': 731,\n",
       " 'sample': 1481,\n",
       " 'qloh': 2,\n",
       " 'divided': 132,\n",
       " 'least': 1312,\n",
       " 'two': 6433,\n",
       " 'experiments': 1324,\n",
       " 'considered': 874,\n",
       " 'imbalance': 47,\n",
       " 'interpreted': 106,\n",
       " 'showing': 829,\n",
       " 'prospective': 195,\n",
       " 'repeated': 179,\n",
       " 'third': 471,\n",
       " 'time': 2299,\n",
       " 'included': 1365,\n",
       " 'new': 2270,\n",
       " 'bax': 33,\n",
       " 'data': 7152,\n",
       " 'verify': 100,\n",
       " 'integrity': 101,\n",
       " 'transfection': 821,\n",
       " 'line': 3868,\n",
       " 'fugene': 52,\n",
       " 'hd': 541,\n",
       " 'roche': 302,\n",
       " 'nutley': 3,\n",
       " 'nj': 89,\n",
       " 'reagent': 266,\n",
       " 'eight': 736,\n",
       " 'empty': 349,\n",
       " 'plate': 227,\n",
       " 'harvested': 359,\n",
       " '48': 1109,\n",
       " 'knockdown': 621,\n",
       " 'lentiviral': 231,\n",
       " 'mission': 6,\n",
       " 'particles': 47,\n",
       " 'sigma': 462,\n",
       " 'aldrich': 189,\n",
       " 'st': 310,\n",
       " 'louis': 108,\n",
       " 'mo': 415,\n",
       " 'per': 1556,\n",
       " 'briefly': 281,\n",
       " '105': 229,\n",
       " 'seeded': 318,\n",
       " 'plates': 535,\n",
       " 'infected': 434,\n",
       " 'day': 945,\n",
       " 'shrna': 484,\n",
       " 'generate': 380,\n",
       " 'stable': 1149,\n",
       " 'days': 1088,\n",
       " 'puromycin': 133,\n",
       " 'whole': 938,\n",
       " 'lysates': 884,\n",
       " 'immunoblotting': 380,\n",
       " 'anti': 2690,\n",
       " 'antibody': 1699,\n",
       " 'santa': 469,\n",
       " 'cruz': 413,\n",
       " 'biotechnologies': 24,\n",
       " 'assay': 2541,\n",
       " 'described': 3566,\n",
       " 'forty': 99,\n",
       " 'hours': 901,\n",
       " 'assessed': 1017,\n",
       " 'trypan': 45,\n",
       " 'blue': 466,\n",
       " 'exclusion': 78,\n",
       " 'wound': 113,\n",
       " 'healing': 67,\n",
       " 'confluent': 87,\n",
       " 'medium': 976,\n",
       " 'changed': 121,\n",
       " 'twelve': 40,\n",
       " 'straight': 4,\n",
       " 'scratch': 28,\n",
       " 'made': 387,\n",
       " 'across': 1021,\n",
       " 'layer': 120,\n",
       " 'pipette': 10,\n",
       " 'tip': 42,\n",
       " 'gently': 9,\n",
       " 'washed': 385,\n",
       " 'pbs': 317,\n",
       " 'remove': 153,\n",
       " 'debris': 113,\n",
       " 'replaced': 164,\n",
       " 'photographs': 81,\n",
       " 'taken': 597,\n",
       " 'every': 469,\n",
       " 'western': 1217,\n",
       " 'blot': 755,\n",
       " 'collected': 519,\n",
       " 'twice': 321,\n",
       " 'lysed': 311,\n",
       " 'ice': 149,\n",
       " 'cold': 125,\n",
       " 'lysis': 301,\n",
       " '5m': 29,\n",
       " 'tris': 343,\n",
       " 'hcl': 149,\n",
       " 'ph': 798,\n",
       " 'nacl': 239,\n",
       " 'deoxycholic': 3,\n",
       " 'acid': 2151,\n",
       " 'mm': 1489,\n",
       " 'edta': 202,\n",
       " 'np': 113,\n",
       " 'dtt': 43,\n",
       " 'phenylmethylsulfonyl': 52,\n",
       " 'fluoride': 212,\n",
       " 'leupeptin': 45,\n",
       " 'aprotinin': 43,\n",
       " 'lysate': 150,\n",
       " 'centrifuged': 89,\n",
       " 'rpm': 44,\n",
       " 'content': 269,\n",
       " 'supernatant': 95,\n",
       " 'measured': 905,\n",
       " 'sds': 464,\n",
       " 'page': 482,\n",
       " 'transferred': 307,\n",
       " 'onto': 283,\n",
       " 'nitrocellulose': 108,\n",
       " 'membranes': 319,\n",
       " 'whatman': 8,\n",
       " 'piscataway': 27,\n",
       " 'blocked': 224,\n",
       " 'fat': 147,\n",
       " 'dry': 37,\n",
       " 'milk': 62,\n",
       " 'phosphate': 438,\n",
       " 'buffered': 87,\n",
       " 'saline': 85,\n",
       " 'tween': 68,\n",
       " 'pbst': 11,\n",
       " 'room': 183,\n",
       " 'temperature': 299,\n",
       " 'incubated': 712,\n",
       " 'primary': 3855,\n",
       " 'overnight': 243,\n",
       " 'times': 523,\n",
       " 'probed': 158,\n",
       " 'horseradish': 99,\n",
       " 'peroxidase': 146,\n",
       " 'hrp': 66,\n",
       " 'conjugated': 202,\n",
       " 'secondary': 2859,\n",
       " 'chemiluminescence': 79,\n",
       " 'biorad': 31,\n",
       " 'valencia': 69,\n",
       " 'chemidoc': 7,\n",
       " 'gel': 507,\n",
       " 'documentation': 22,\n",
       " 'antibodies': 1520,\n",
       " 'dilutions': 87,\n",
       " '5000': 39,\n",
       " '1000': 240,\n",
       " 'ha': 509,\n",
       " 'actin': 559,\n",
       " 'flow': 388,\n",
       " 'cytometry': 209,\n",
       " '106': 270,\n",
       " 'grown': 421,\n",
       " 'fbs': 347,\n",
       " 'trypsin': 58,\n",
       " 'treatment': 6638,\n",
       " '70': 781,\n",
       " 'ethanol': 110,\n",
       " 'stained': 486,\n",
       " 'solution': 271,\n",
       " '25': 2288,\n",
       " 'propidium': 37,\n",
       " 'iodide': 48,\n",
       " 'rnase': 38,\n",
       " 'triton': 116,\n",
       " 'dark': 69,\n",
       " 'guava': 11,\n",
       " 'pca': 288,\n",
       " '96': 568,\n",
       " 'cytometer': 47,\n",
       " 'technologies': 516,\n",
       " 'millipore': 142,\n",
       " 'billerica': 27,\n",
       " 'pcdna3': 236,\n",
       " 'tagged': 510,\n",
       " 'indicated': 1924,\n",
       " 'protocol': 523,\n",
       " 'profection': 2,\n",
       " 'twenty': 232,\n",
       " 'post': 471,\n",
       " 'starved': 260,\n",
       " 'sodium': 224,\n",
       " 'orthovanadate': 49,\n",
       " '150': 544,\n",
       " 'x100': 9,\n",
       " 'glycerol': 71,\n",
       " 'protease': 228,\n",
       " 'inhibitors': 3917,\n",
       " 'cleared': 36,\n",
       " 'centrifugation': 122,\n",
       " 'immunoprecipitations': 57,\n",
       " '250': 386,\n",
       " 'rabbit': 300,\n",
       " 'plus': 376,\n",
       " 'sepharose': 50,\n",
       " 'precipitations': 2,\n",
       " 'boiling': 18,\n",
       " 'laemmli': 29,\n",
       " 'elutions': 2,\n",
       " 'immunoblotted': 163,\n",
       " 'micrograms': 27,\n",
       " 'statistical': 833,\n",
       " 'different': 4465,\n",
       " 'groups': 887,\n",
       " 'fisher': 365,\n",
       " 'exact': 393,\n",
       " 'test': 1718,\n",
       " 'continuous': 172,\n",
       " 'variables': 174,\n",
       " 'comparisons': 189,\n",
       " 'variance': 35,\n",
       " 'anova': 54,\n",
       " 'followed': 986,\n",
       " 'sidak': 4,\n",
       " 'adjustment': 31,\n",
       " 'multiple': 1887,\n",
       " 'involving': 1049,\n",
       " 'measurements': 177,\n",
       " 'measures': 71,\n",
       " 'greenhouse': 3,\n",
       " 'geisser': 3,\n",
       " 'degrees': 128,\n",
       " 'freedom': 9,\n",
       " 'analyses': 1307,\n",
       " 'conducted': 431,\n",
       " 'stata': 10,\n",
       " 'v10': 2,\n",
       " 'station': 22,\n",
       " 'tx': 60,\n",
       " 'results': 5098,\n",
       " 'investigate': 462,\n",
       " 'drawn': 103,\n",
       " 'ethnicities': 8,\n",
       " 'represented': 357,\n",
       " 'caucasians': 40,\n",
       " 'pairs': 361,\n",
       " 'sequence': 2340,\n",
       " 'spans': 31,\n",
       " 'unique': 731,\n",
       " 'among': 2006,\n",
       " 'variation': 271,\n",
       " 'l620f': 6,\n",
       " 'known': 2711,\n",
       " 'snp': 349,\n",
       " 'rs2227988': 4,\n",
       " 'exon': 8505,\n",
       " 'detected': 2624,\n",
       " 'importantly': 500,\n",
       " 'synonymous': 186,\n",
       " 'moreover': 870,\n",
       " 'corresponding': 936,\n",
       " 'indicating': 869,\n",
       " 'single': 2243,\n",
       " 'nucleotide': 1173,\n",
       " 'snvs': 108,\n",
       " 'patient': 5552,\n",
       " 'v391i': 4,\n",
       " '72515': 2,\n",
       " '72517': 2,\n",
       " 'del': 626,\n",
       " 'atg': 70,\n",
       " 'r830k': 2,\n",
       " 'a848t': 2,\n",
       " '1a': 952,\n",
       " '1b': 864,\n",
       " 'model': 2119,\n",
       " 'representative': 650,\n",
       " 'investigated': 623,\n",
       " '21': 3080,\n",
       " 'showed': 3517,\n",
       " '78': 364,\n",
       " 'contribution': 251,\n",
       " 'figures': 775,\n",
       " '1c': 502,\n",
       " 'found': 5291,\n",
       " 'tumors': 8968,\n",
       " 'frequency': 1835,\n",
       " 'ad': 299,\n",
       " 'although': 3069,\n",
       " 'statistically': 514,\n",
       " '292': 48,\n",
       " 'sq': 23,\n",
       " 'lc': 71,\n",
       " '23': 1823,\n",
       " 'population': 798,\n",
       " 'power': 153,\n",
       " 'detect': 547,\n",
       " 'low': 2061,\n",
       " 'co': 1047,\n",
       " 'since': 894,\n",
       " 'east': 70,\n",
       " 'asians': 61,\n",
       " 'higher': 2010,\n",
       " 'cohort': 1231,\n",
       " 'tested': 1456,\n",
       " 'find': 340,\n",
       " 'overlap': 218,\n",
       " 'mutants': 5398,\n",
       " 'including': 3844,\n",
       " 'n375s': 18,\n",
       " 'additional': 2055,\n",
       " 'six': 1015,\n",
       " 'neither': 290,\n",
       " '26': 1517,\n",
       " 'l211w': 2,\n",
       " 'similar': 3117,\n",
       " 'seen': 976,\n",
       " '99': 186,\n",
       " 'identifiable': 32,\n",
       " 'conversely': 309,\n",
       " '89': 256,\n",
       " 'cohorts': 307,\n",
       " 'overlapped': 34,\n",
       " 'concurrent': 160,\n",
       " 'context': 735,\n",
       " 'intact': 313,\n",
       " 'whether': 1867,\n",
       " 'affect': 810,\n",
       " 'chosen': 159,\n",
       " 'substrate': 570,\n",
       " 'enhanced': 842,\n",
       " 'activated': 2268,\n",
       " 'result': 1527,\n",
       " 'demonstrates': 186,\n",
       " '3a': 784,\n",
       " 'various': 1252,\n",
       " 'effect': 2124,\n",
       " 'backgrounds': 56,\n",
       " 'wt': 2927,\n",
       " 'cloning': 250,\n",
       " 'express': 491,\n",
       " 'relatively': 677,\n",
       " 'basal': 649,\n",
       " 'endogenous': 776,\n",
       " 'efficiency': 179,\n",
       " 'comparable': 433,\n",
       " 'construct': 438,\n",
       " 'resulted': 968,\n",
       " 'viable': 216,\n",
       " '132': 84,\n",
       " '120': 266,\n",
       " '147': 52,\n",
       " 'relative': 1358,\n",
       " '022': 13,\n",
       " '049': 11,\n",
       " '008': 24,\n",
       " '3b': 613,\n",
       " 'prepared': 487,\n",
       " 'parallel': 233,\n",
       " ...}"
      ]
     },
     "execution_count": 254,
     "metadata": {},
     "output_type": "execute_result"
    }
   ],
   "source": [
    "frequency"
   ]
  },
  {
   "cell_type": "code",
   "execution_count": 255,
   "id": "7d4aee75",
   "metadata": {},
   "outputs": [],
   "source": [
    "sorted2 = sorted(frequency.items(), key=lambda x:x[1], reverse=True)"
   ]
  },
  {
   "cell_type": "code",
   "execution_count": 256,
   "id": "884c0123",
   "metadata": {},
   "outputs": [
    {
     "data": {
      "text/plain": [
       "[('mutations', 34612),\n",
       " ('cells', 23165),\n",
       " ('patients', 19283),\n",
       " ('cell', 18315),\n",
       " ('mutation', 15202),\n",
       " ('cancer', 13271),\n",
       " ('kinase', 12655),\n",
       " ('egfr', 11886),\n",
       " ('tumor', 11282),\n",
       " ('kit', 10434),\n",
       " ('gene', 10057),\n",
       " ('expression', 9899),\n",
       " ('tumors', 8968),\n",
       " ('using', 8822),\n",
       " ('also', 8720),\n",
       " ('exon', 8505),\n",
       " ('mutant', 8302),\n",
       " ('braf', 8209),\n",
       " ('activity', 8059),\n",
       " ('domain', 7897)]"
      ]
     },
     "execution_count": 256,
     "metadata": {},
     "output_type": "execute_result"
    }
   ],
   "source": [
    "sorted2[:20]"
   ]
  },
  {
   "cell_type": "code",
   "execution_count": 257,
   "id": "fbb268df",
   "metadata": {},
   "outputs": [],
   "source": [
    "tf3 = tf1[2:3]"
   ]
  },
  {
   "cell_type": "code",
   "execution_count": 258,
   "id": "80687f3a",
   "metadata": {},
   "outputs": [
    {
     "data": {
      "text/html": [
       "<div>\n",
       "<style scoped>\n",
       "    .dataframe tbody tr th:only-of-type {\n",
       "        vertical-align: middle;\n",
       "    }\n",
       "\n",
       "    .dataframe tbody tr th {\n",
       "        vertical-align: top;\n",
       "    }\n",
       "\n",
       "    .dataframe thead th {\n",
       "        text-align: right;\n",
       "    }\n",
       "</style>\n",
       "<table border=\"1\" class=\"dataframe\">\n",
       "  <thead>\n",
       "    <tr style=\"text-align: right;\">\n",
       "      <th></th>\n",
       "      <th>Class</th>\n",
       "      <th>TEXT</th>\n",
       "      <th>tokenized_sents</th>\n",
       "    </tr>\n",
       "  </thead>\n",
       "  <tbody>\n",
       "    <tr>\n",
       "      <th>2</th>\n",
       "      <td>3</td>\n",
       "      <td>recent evidence demonstrated acquired uniparen...</td>\n",
       "      <td>[recent, evidence, demonstrated, acquired, uni...</td>\n",
       "    </tr>\n",
       "  </tbody>\n",
       "</table>\n",
       "</div>"
      ],
      "text/plain": [
       "   Class                                               TEXT  \\\n",
       "2      3  recent evidence demonstrated acquired uniparen...   \n",
       "\n",
       "                                     tokenized_sents  \n",
       "2  [recent, evidence, demonstrated, acquired, uni...  "
      ]
     },
     "execution_count": 258,
     "metadata": {},
     "output_type": "execute_result"
    }
   ],
   "source": [
    "tf3"
   ]
  },
  {
   "cell_type": "code",
   "execution_count": 259,
   "id": "a742ef79",
   "metadata": {},
   "outputs": [],
   "source": [
    "Classt3 = tf3.drop(['Class','TEXT'], axis = 1)"
   ]
  },
  {
   "cell_type": "code",
   "execution_count": 260,
   "id": "bc67d581",
   "metadata": {},
   "outputs": [
    {
     "data": {
      "text/html": [
       "<div>\n",
       "<style scoped>\n",
       "    .dataframe tbody tr th:only-of-type {\n",
       "        vertical-align: middle;\n",
       "    }\n",
       "\n",
       "    .dataframe tbody tr th {\n",
       "        vertical-align: top;\n",
       "    }\n",
       "\n",
       "    .dataframe thead th {\n",
       "        text-align: right;\n",
       "    }\n",
       "</style>\n",
       "<table border=\"1\" class=\"dataframe\">\n",
       "  <thead>\n",
       "    <tr style=\"text-align: right;\">\n",
       "      <th></th>\n",
       "      <th>tokenized_sents</th>\n",
       "    </tr>\n",
       "  </thead>\n",
       "  <tbody>\n",
       "    <tr>\n",
       "      <th>2</th>\n",
       "      <td>[recent, evidence, demonstrated, acquired, uni...</td>\n",
       "    </tr>\n",
       "  </tbody>\n",
       "</table>\n",
       "</div>"
      ],
      "text/plain": [
       "                                     tokenized_sents\n",
       "2  [recent, evidence, demonstrated, acquired, uni..."
      ]
     },
     "execution_count": 260,
     "metadata": {},
     "output_type": "execute_result"
    }
   ],
   "source": [
    "Classt3"
   ]
  },
  {
   "cell_type": "code",
   "execution_count": 262,
   "id": "e1501f27",
   "metadata": {},
   "outputs": [],
   "source": [
    "ml = Classt3['tokenized_sents'][2]"
   ]
  },
  {
   "cell_type": "code",
   "execution_count": 263,
   "id": "87f67467",
   "metadata": {},
   "outputs": [],
   "source": [
    "l = ['0','1','2','3','4','5','6','7','8','9','et','al','fig','a','b','c','d','e','f','g','h','i','j','k','l','m','n','o','p','q','r','s','t','u','v','w','x','figure','y','z']\n",
    "ml3 = [x for x in ml if x not in l]"
   ]
  },
  {
   "cell_type": "code",
   "execution_count": 264,
   "id": "edc5dac8",
   "metadata": {},
   "outputs": [
    {
     "data": {
      "text/plain": [
       "dict"
      ]
     },
     "execution_count": 264,
     "metadata": {},
     "output_type": "execute_result"
    }
   ],
   "source": [
    "frequency = {}\n",
    "\n",
    "# iterating over the list\n",
    "for item in ml3:\n",
    "   # checking the element in dictionary\n",
    "   if item in frequency:\n",
    "      # incrementing the counr\n",
    "      frequency[item] += 1\n",
    "   else:\n",
    "      # initializing the count\n",
    "      frequency[item] = 1\n",
    "\n",
    "# printing the frequency\n",
    "type(frequency)"
   ]
  },
  {
   "cell_type": "code",
   "execution_count": 265,
   "id": "7e083ed7",
   "metadata": {},
   "outputs": [],
   "source": [
    "sorted3 = sorted(frequency.items(), key=lambda x:x[1], reverse=True)"
   ]
  },
  {
   "cell_type": "code",
   "execution_count": 266,
   "id": "37fa029c",
   "metadata": {},
   "outputs": [
    {
     "data": {
      "text/plain": [
       "[('mutations', 6258),\n",
       " ('brca1', 4331),\n",
       " ('cells', 3900),\n",
       " ('variants', 2937),\n",
       " ('cancer', 2648),\n",
       " ('mutation', 2187),\n",
       " ('alk', 2075),\n",
       " ('activity', 1845),\n",
       " ('cell', 1753),\n",
       " ('protein', 1650),\n",
       " ('mtor', 1642),\n",
       " ('mutants', 1636),\n",
       " ('assay', 1612),\n",
       " ('expression', 1528),\n",
       " ('domain', 1453),\n",
       " ('functional', 1418),\n",
       " ('flt3', 1412),\n",
       " ('mutant', 1382),\n",
       " ('kinase', 1358),\n",
       " ('analysis', 1335)]"
      ]
     },
     "execution_count": 266,
     "metadata": {},
     "output_type": "execute_result"
    }
   ],
   "source": [
    "sorted3[:20]"
   ]
  },
  {
   "cell_type": "code",
   "execution_count": 267,
   "id": "9047cb95",
   "metadata": {},
   "outputs": [],
   "source": [
    "tf4 = tf1[3:4]\n",
    "Classt4 = tf4.drop(['Class','TEXT'], axis = 1)\n",
    "ml = Classt4['tokenized_sents'][3]"
   ]
  },
  {
   "cell_type": "code",
   "execution_count": 269,
   "id": "dfc7e205",
   "metadata": {},
   "outputs": [],
   "source": [
    "l = ['0','1','2','3','4','5','6','7','8','9','et','al','fig','a','b','c','d','e','f','g','h','i','j','k','l','m','n','o','p','q','r','s','t','u','v','w','x','figure','y','z']\n",
    "ml4 = [x for x in ml if x not in l]"
   ]
  },
  {
   "cell_type": "code",
   "execution_count": 270,
   "id": "511de1ee",
   "metadata": {},
   "outputs": [
    {
     "data": {
      "text/plain": [
       "dict"
      ]
     },
     "execution_count": 270,
     "metadata": {},
     "output_type": "execute_result"
    }
   ],
   "source": [
    "frequency = {}\n",
    "\n",
    "# iterating over the list\n",
    "for item in ml4:\n",
    "   # checking the element in dictionary\n",
    "   if item in frequency:\n",
    "      # incrementing the counr\n",
    "      frequency[item] += 1\n",
    "   else:\n",
    "      # initializing the count\n",
    "      frequency[item] = 1\n",
    "\n",
    "# printing the frequency\n",
    "type(frequency)"
   ]
  },
  {
   "cell_type": "code",
   "execution_count": 271,
   "id": "85476504",
   "metadata": {},
   "outputs": [
    {
     "data": {
      "text/plain": [
       "[('mutations', 46501),\n",
       " ('cells', 37115),\n",
       " ('pten', 25841),\n",
       " ('protein', 24278),\n",
       " ('activity', 21625),\n",
       " ('cell', 21223),\n",
       " ('brca1', 18374),\n",
       " ('mutation', 17934),\n",
       " ('variants', 17006),\n",
       " ('type', 16929),\n",
       " ('cancer', 16690),\n",
       " ('binding', 16340),\n",
       " ('expression', 16115),\n",
       " ('p53', 15171),\n",
       " ('mutant', 14047),\n",
       " ('wild', 13485),\n",
       " ('mutants', 13455),\n",
       " ('domain', 13245),\n",
       " ('also', 13053),\n",
       " ('dna', 12729)]"
      ]
     },
     "execution_count": 271,
     "metadata": {},
     "output_type": "execute_result"
    }
   ],
   "source": [
    "sorted4 = sorted(frequency.items(), key=lambda x:x[1], reverse=True)\n",
    "sorted4[:20]"
   ]
  },
  {
   "cell_type": "code",
   "execution_count": 272,
   "id": "386f83aa",
   "metadata": {},
   "outputs": [],
   "source": [
    "tf5 = tf1[4:5]\n",
    "Classt5 = tf5.drop(['Class','TEXT'], axis = 1)\n",
    "ml = Classt5['tokenized_sents'][4]"
   ]
  },
  {
   "cell_type": "code",
   "execution_count": 273,
   "id": "28903c9d",
   "metadata": {},
   "outputs": [],
   "source": [
    "l = ['0','1','2','3','4','5','6','7','8','9','et','al','fig','a','b','c','d','e','f','g','h','i','j','k','l','m','n','o','p','q','r','s','t','u','v','w','x','figure','y','z']\n",
    "ml5 = [x for x in ml if x not in l]"
   ]
  },
  {
   "cell_type": "code",
   "execution_count": 274,
   "id": "71281331",
   "metadata": {},
   "outputs": [
    {
     "data": {
      "text/plain": [
       "[('brca1', 14800),\n",
       " ('variants', 14393),\n",
       " ('mutations', 13072),\n",
       " ('cancer', 7886),\n",
       " ('cells', 7506),\n",
       " ('protein', 6153),\n",
       " ('mutation', 5806),\n",
       " ('functional', 5656),\n",
       " ('type', 5453),\n",
       " ('vus', 5384),\n",
       " ('data', 5338),\n",
       " ('assays', 4890),\n",
       " ('activity', 4881),\n",
       " ('wild', 4546),\n",
       " ('cell', 4364),\n",
       " ('domain', 4332),\n",
       " ('assay', 4278),\n",
       " ('neutral', 4268),\n",
       " ('analysis', 4210),\n",
       " ('binding', 4188)]"
      ]
     },
     "execution_count": 274,
     "metadata": {},
     "output_type": "execute_result"
    }
   ],
   "source": [
    "frequency = {}\n",
    "\n",
    "# iterating over the list\n",
    "for item in ml5:\n",
    "   # checking the element in dictionary\n",
    "   if item in frequency:\n",
    "      # incrementing the counr\n",
    "      frequency[item] += 1\n",
    "   else:\n",
    "      # initializing the count\n",
    "      frequency[item] = 1\n",
    "\n",
    "# printing the frequency\n",
    "sorted5 = sorted(frequency.items(), key=lambda x:x[1], reverse=True)\n",
    "sorted5[:20]"
   ]
  },
  {
   "cell_type": "code",
   "execution_count": 275,
   "id": "d86aa5c5",
   "metadata": {},
   "outputs": [],
   "source": [
    "tf6 = tf1[5:6]\n",
    "Classt6 = tf6.drop(['Class','TEXT'], axis = 1)\n",
    "ml = Classt6['tokenized_sents'][5]\n",
    "l = ['0','1','2','3','4','5','6','7','8','9','et','al','fig','a','b','c','d','e','f','g','h','i','j','k','l','m','n','o','p','q','r','s','t','u','v','w','x','figure','y','z']\n",
    "ml6 = [x for x in ml if x not in l]"
   ]
  },
  {
   "cell_type": "code",
   "execution_count": 276,
   "id": "beec8f78",
   "metadata": {},
   "outputs": [
    {
     "data": {
      "text/plain": [
       "[('brca1', 14211),\n",
       " ('mutations', 12151),\n",
       " ('variants', 11526),\n",
       " ('cancer', 7075),\n",
       " ('mutation', 6876),\n",
       " ('cells', 6480),\n",
       " ('deleterious', 5788),\n",
       " ('data', 5482),\n",
       " ('binding', 5268),\n",
       " ('protein', 4844),\n",
       " ('activity', 4659),\n",
       " ('analysis', 4544),\n",
       " ('dna', 4431),\n",
       " ('domain', 4399),\n",
       " ('cell', 4367),\n",
       " ('type', 4316),\n",
       " ('kinase', 4201),\n",
       " ('brca2', 4097),\n",
       " ('using', 3949),\n",
       " ('variant', 3921)]"
      ]
     },
     "execution_count": 276,
     "metadata": {},
     "output_type": "execute_result"
    }
   ],
   "source": [
    "frequency = {}\n",
    "\n",
    "# iterating over the list\n",
    "for item in ml6:\n",
    "   # checking the element in dictionary\n",
    "   if item in frequency:\n",
    "      # incrementing the counr\n",
    "      frequency[item] += 1\n",
    "   else:\n",
    "      # initializing the count\n",
    "      frequency[item] = 1\n",
    "\n",
    "# printing the frequency\n",
    "sorted6 = sorted(frequency.items(), key=lambda x:x[1], reverse=True)\n",
    "sorted6[:20]"
   ]
  },
  {
   "cell_type": "code",
   "execution_count": 278,
   "id": "c2fc69a5",
   "metadata": {},
   "outputs": [
    {
     "data": {
      "text/plain": [
       "[('mutations', 86920),\n",
       " ('cells', 73917),\n",
       " ('cell', 53149),\n",
       " ('patients', 43224),\n",
       " ('mutation', 38643),\n",
       " ('egfr', 37636),\n",
       " ('kinase', 34931),\n",
       " ('cancer', 32148),\n",
       " ('mutant', 27495),\n",
       " ('expression', 26851),\n",
       " ('tumor', 26342),\n",
       " ('activity', 24385),\n",
       " ('activation', 23936),\n",
       " ('also', 23093),\n",
       " ('kit', 23065),\n",
       " ('domain', 22396),\n",
       " ('tumors', 22255),\n",
       " ('ras', 21912),\n",
       " ('10', 20789),\n",
       " ('using', 20781)]"
      ]
     },
     "execution_count": 278,
     "metadata": {},
     "output_type": "execute_result"
    }
   ],
   "source": [
    "tf7 = tf1[6:7]\n",
    "Classt7 = tf7.drop(['Class','TEXT'], axis = 1)\n",
    "ml = Classt7['tokenized_sents'][6]\n",
    "l = ['0','1','2','3','4','5','6','7','8','9','et','al','fig','a','b','c','d','e','f','g','h','i','j','k','l','m','n','o','p','q','r','s','t','u','v','w','x','figure','y','z']\n",
    "ml7 = [x for x in ml if x not in l]\n",
    "frequency = {}\n",
    "\n",
    "# iterating over the list\n",
    "for item in ml7:\n",
    "   # checking the element in dictionary\n",
    "   if item in frequency:\n",
    "      # incrementing the counr\n",
    "      frequency[item] += 1\n",
    "   else:\n",
    "      # initializing the count\n",
    "      frequency[item] = 1\n",
    "\n",
    "# printing the frequency\n",
    "sorted7 = sorted(frequency.items(), key=lambda x:x[1], reverse=True)\n",
    "sorted7[:20]"
   ]
  },
  {
   "cell_type": "code",
   "execution_count": 279,
   "id": "20bb0cca",
   "metadata": {},
   "outputs": [
    {
     "data": {
      "text/plain": [
       "[('cells', 1374),\n",
       " ('mutations', 1329),\n",
       " ('expression', 912),\n",
       " ('cell', 768),\n",
       " ('genes', 646),\n",
       " ('mutant', 620),\n",
       " ('gene', 619),\n",
       " ('idh1', 586),\n",
       " ('using', 576),\n",
       " ('mutation', 572),\n",
       " ('cancer', 562),\n",
       " ('data', 549),\n",
       " ('akt', 525),\n",
       " ('dna', 517),\n",
       " ('tumors', 514),\n",
       " ('h3', 506),\n",
       " ('tumor', 486),\n",
       " ('also', 457),\n",
       " ('samples', 454),\n",
       " ('idh2', 422)]"
      ]
     },
     "execution_count": 279,
     "metadata": {},
     "output_type": "execute_result"
    }
   ],
   "source": [
    "tf8 = tf1[7:8]\n",
    "Classt8 = tf8.drop(['Class','TEXT'], axis = 1)\n",
    "ml = Classt8['tokenized_sents'][7]\n",
    "l = ['0','1','2','3','4','5','6','7','8','9','et','al','fig','a','b','c','d','e','f','g','h','i','j','k','l','m','n','o','p','q','r','s','t','u','v','w','x','figure','y','z']\n",
    "ml8 = [x for x in ml if x not in l]\n",
    "frequency = {}\n",
    "\n",
    "# iterating over the list\n",
    "for item in ml8:\n",
    "   # checking the element in dictionary\n",
    "   if item in frequency:\n",
    "      # incrementing the counr\n",
    "      frequency[item] += 1\n",
    "   else:\n",
    "      # initializing the count\n",
    "      frequency[item] = 1\n",
    "\n",
    "# printing the frequency\n",
    "sorted8 = sorted(frequency.items(), key=lambda x:x[1], reverse=True)\n",
    "sorted8[:20]"
   ]
  },
  {
   "cell_type": "code",
   "execution_count": 280,
   "id": "e61f8398",
   "metadata": {},
   "outputs": [
    {
     "data": {
      "text/plain": [
       "[('cells', 3924),\n",
       " ('mutations', 3591),\n",
       " ('mutant', 2853),\n",
       " ('sf3b1', 2767),\n",
       " ('cell', 2332),\n",
       " ('splicing', 2178),\n",
       " ('idh1', 1900),\n",
       " ('expression', 1731),\n",
       " ('using', 1517),\n",
       " ('genes', 1511),\n",
       " ('type', 1495),\n",
       " ('2hg', 1403),\n",
       " ('wild', 1387),\n",
       " ('ezh2', 1372),\n",
       " ('u2af1', 1353),\n",
       " ('idh2', 1263),\n",
       " ('mutation', 1190),\n",
       " ('analysis', 1129),\n",
       " ('idh', 1119),\n",
       " ('rna', 1097)]"
      ]
     },
     "execution_count": 280,
     "metadata": {},
     "output_type": "execute_result"
    }
   ],
   "source": [
    "tf9 = tf1[8:9]\n",
    "Classt9 = tf9.drop(['Class','TEXT'], axis = 1)\n",
    "ml = Classt9['tokenized_sents'][8]\n",
    "l = ['0','1','2','3','4','5','6','7','8','9','et','al','fig','a','b','c','d','e','f','g','h','i','j','k','l','m','n','o','p','q','r','s','t','u','v','w','x','figure','y','z']\n",
    "ml9 = [x for x in ml if x not in l]\n",
    "frequency = {}\n",
    "\n",
    "# iterating over the list\n",
    "for item in ml9:\n",
    "   # checking the element in dictionary\n",
    "   if item in frequency:\n",
    "      # incrementing the counr\n",
    "      frequency[item] += 1\n",
    "   else:\n",
    "      # initializing the count\n",
    "      frequency[item] = 1\n",
    "\n",
    "# printing the frequency\n",
    "sorted9 = sorted(frequency.items(), key=lambda x:x[1], reverse=True)\n",
    "sorted9[:20]"
   ]
  },
  {
   "cell_type": "code",
   "execution_count": null,
   "id": "f0a3a7cd",
   "metadata": {},
   "outputs": [],
   "source": []
  }
 ],
 "metadata": {
  "kernelspec": {
   "display_name": "Python 3 (ipykernel)",
   "language": "python",
   "name": "python3"
  },
  "language_info": {
   "codemirror_mode": {
    "name": "ipython",
    "version": 3
   },
   "file_extension": ".py",
   "mimetype": "text/x-python",
   "name": "python",
   "nbconvert_exporter": "python",
   "pygments_lexer": "ipython3",
   "version": "3.9.12"
  }
 },
 "nbformat": 4,
 "nbformat_minor": 5
}
